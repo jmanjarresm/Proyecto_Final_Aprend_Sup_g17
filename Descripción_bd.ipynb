{
 "cells": [
  {
   "cell_type": "code",
   "execution_count": 3,
   "metadata": {},
   "outputs": [],
   "source": [
    "## Carga de Librearias usadas en el análisis descriptivo\n",
    "import pandas as pd\n",
    "import seaborn as sns\n",
    "import matplotlib.pyplot as plt\n",
    "import plotly.express as px"
   ]
  },
  {
   "cell_type": "code",
   "execution_count": 4,
   "metadata": {},
   "outputs": [],
   "source": [
    "df = pd.read_csv(r'docs\\data\\Turistas_v_ctimas_de_delitos_en_Colombia.csv')"
   ]
  },
  {
   "cell_type": "code",
   "execution_count": 5,
   "metadata": {},
   "outputs": [
    {
     "data": {
      "text/html": [
       "<div>\n",
       "<style scoped>\n",
       "    .dataframe tbody tr th:only-of-type {\n",
       "        vertical-align: middle;\n",
       "    }\n",
       "\n",
       "    .dataframe tbody tr th {\n",
       "        vertical-align: top;\n",
       "    }\n",
       "\n",
       "    .dataframe thead th {\n",
       "        text-align: right;\n",
       "    }\n",
       "</style>\n",
       "<table border=\"1\" class=\"dataframe\">\n",
       "  <thead>\n",
       "    <tr style=\"text-align: right;\">\n",
       "      <th></th>\n",
       "      <th>FECHA</th>\n",
       "      <th>PAÍS</th>\n",
       "      <th>DEPARTAMENTO</th>\n",
       "      <th>MUNICIPIO</th>\n",
       "      <th>DELITO</th>\n",
       "      <th>PAIS VÍCTIMA</th>\n",
       "      <th>GENERO</th>\n",
       "      <th>ZONA</th>\n",
       "      <th>CIRCUNSTANCIASPERSONA</th>\n",
       "    </tr>\n",
       "  </thead>\n",
       "  <tbody>\n",
       "    <tr>\n",
       "      <th>0</th>\n",
       "      <td>2022-01-01T00:00:00.000</td>\n",
       "      <td>COLOMBIA</td>\n",
       "      <td>MAGDALENA</td>\n",
       "      <td>Santa Marta (CT)</td>\n",
       "      <td>ARTÍCULO 239. HURTO PERSONAS</td>\n",
       "      <td>COLOMBIA</td>\n",
       "      <td>FEMENINO</td>\n",
       "      <td>URBANA</td>\n",
       "      <td>COLOMBIA</td>\n",
       "    </tr>\n",
       "    <tr>\n",
       "      <th>1</th>\n",
       "      <td>2022-01-01T00:00:00.000</td>\n",
       "      <td>COLOMBIA</td>\n",
       "      <td>MAGDALENA</td>\n",
       "      <td>Santa Marta (CT)</td>\n",
       "      <td>ARTÍCULO 239. HURTO PERSONAS</td>\n",
       "      <td>COLOMBIA</td>\n",
       "      <td>MASCULINO</td>\n",
       "      <td>URBANA</td>\n",
       "      <td>COLOMBIA</td>\n",
       "    </tr>\n",
       "    <tr>\n",
       "      <th>2</th>\n",
       "      <td>2022-01-01T00:00:00.000</td>\n",
       "      <td>COLOMBIA</td>\n",
       "      <td>MAGDALENA</td>\n",
       "      <td>Santa Marta (CT)</td>\n",
       "      <td>ARTÍCULO 239. HURTO PERSONAS</td>\n",
       "      <td>COLOMBIA</td>\n",
       "      <td>MASCULINO</td>\n",
       "      <td>URBANA</td>\n",
       "      <td>COLOMBIA</td>\n",
       "    </tr>\n",
       "    <tr>\n",
       "      <th>3</th>\n",
       "      <td>2022-01-02T00:00:00.000</td>\n",
       "      <td>COLOMBIA</td>\n",
       "      <td>ANTIOQUIA</td>\n",
       "      <td>Medellín (CT)</td>\n",
       "      <td>ARTÍCULO 239. HURTO PERSONAS</td>\n",
       "      <td>CHINA</td>\n",
       "      <td>MASCULINO</td>\n",
       "      <td>URBANA</td>\n",
       "      <td>CHINA</td>\n",
       "    </tr>\n",
       "    <tr>\n",
       "      <th>4</th>\n",
       "      <td>2022-01-03T00:00:00.000</td>\n",
       "      <td>COLOMBIA</td>\n",
       "      <td>MAGDALENA</td>\n",
       "      <td>Santa Marta (CT)</td>\n",
       "      <td>ARTÍCULO 239. HURTO PERSONAS</td>\n",
       "      <td>COLOMBIA</td>\n",
       "      <td>MASCULINO</td>\n",
       "      <td>URBANA</td>\n",
       "      <td>COLOMBIA</td>\n",
       "    </tr>\n",
       "  </tbody>\n",
       "</table>\n",
       "</div>"
      ],
      "text/plain": [
       "                     FECHA      PAÍS DEPARTAMENTO         MUNICIPIO  \\\n",
       "0  2022-01-01T00:00:00.000  COLOMBIA    MAGDALENA  Santa Marta (CT)   \n",
       "1  2022-01-01T00:00:00.000  COLOMBIA    MAGDALENA  Santa Marta (CT)   \n",
       "2  2022-01-01T00:00:00.000  COLOMBIA    MAGDALENA  Santa Marta (CT)   \n",
       "3  2022-01-02T00:00:00.000  COLOMBIA    ANTIOQUIA     Medellín (CT)   \n",
       "4  2022-01-03T00:00:00.000  COLOMBIA    MAGDALENA  Santa Marta (CT)   \n",
       "\n",
       "                         DELITO PAIS VÍCTIMA     GENERO    ZONA  \\\n",
       "0  ARTÍCULO 239. HURTO PERSONAS     COLOMBIA   FEMENINO  URBANA   \n",
       "1  ARTÍCULO 239. HURTO PERSONAS     COLOMBIA  MASCULINO  URBANA   \n",
       "2  ARTÍCULO 239. HURTO PERSONAS     COLOMBIA  MASCULINO  URBANA   \n",
       "3  ARTÍCULO 239. HURTO PERSONAS        CHINA  MASCULINO  URBANA   \n",
       "4  ARTÍCULO 239. HURTO PERSONAS     COLOMBIA  MASCULINO  URBANA   \n",
       "\n",
       "  CIRCUNSTANCIASPERSONA  \n",
       "0              COLOMBIA  \n",
       "1              COLOMBIA  \n",
       "2              COLOMBIA  \n",
       "3                 CHINA  \n",
       "4              COLOMBIA  "
      ]
     },
     "execution_count": 5,
     "metadata": {},
     "output_type": "execute_result"
    }
   ],
   "source": [
    "df.head()"
   ]
  },
  {
   "cell_type": "code",
   "execution_count": 6,
   "metadata": {},
   "outputs": [],
   "source": [
    "df[['Fecha', 'Extra']] = df['FECHA'].str.split('T', expand=True)\n",
    "df[['Extra_1', 'Delito']] = df['DELITO'].str.split('.', expand=True)"
   ]
  },
  {
   "cell_type": "code",
   "execution_count": 7,
   "metadata": {},
   "outputs": [],
   "source": [
    "df = df.drop(columns=[\"Extra\", \"Extra_1\", \"FECHA\", \"DELITO\"])"
   ]
  },
  {
   "cell_type": "code",
   "execution_count": 8,
   "metadata": {},
   "outputs": [],
   "source": [
    "df.rename(columns={'Fecha': 'FECHA', \"Delito\": \"DELITO\"}, inplace=True)"
   ]
  },
  {
   "cell_type": "code",
   "execution_count": 9,
   "metadata": {},
   "outputs": [],
   "source": [
    "df['FECHA'] = pd.to_datetime(df['FECHA'])\n",
    "# Mantener solo la parte de fecha (sin hora)\n",
    "df['FECHA'] = df['FECHA'].dt.date"
   ]
  },
  {
   "cell_type": "code",
   "execution_count": 10,
   "metadata": {},
   "outputs": [
    {
     "data": {
      "text/html": [
       "<div>\n",
       "<style scoped>\n",
       "    .dataframe tbody tr th:only-of-type {\n",
       "        vertical-align: middle;\n",
       "    }\n",
       "\n",
       "    .dataframe tbody tr th {\n",
       "        vertical-align: top;\n",
       "    }\n",
       "\n",
       "    .dataframe thead th {\n",
       "        text-align: right;\n",
       "    }\n",
       "</style>\n",
       "<table border=\"1\" class=\"dataframe\">\n",
       "  <thead>\n",
       "    <tr style=\"text-align: right;\">\n",
       "      <th></th>\n",
       "      <th>PAÍS</th>\n",
       "      <th>DEPARTAMENTO</th>\n",
       "      <th>MUNICIPIO</th>\n",
       "      <th>PAIS VÍCTIMA</th>\n",
       "      <th>GENERO</th>\n",
       "      <th>ZONA</th>\n",
       "      <th>CIRCUNSTANCIASPERSONA</th>\n",
       "      <th>FECHA</th>\n",
       "      <th>DELITO</th>\n",
       "    </tr>\n",
       "  </thead>\n",
       "  <tbody>\n",
       "    <tr>\n",
       "      <th>count</th>\n",
       "      <td>491</td>\n",
       "      <td>491</td>\n",
       "      <td>491</td>\n",
       "      <td>491</td>\n",
       "      <td>491</td>\n",
       "      <td>491</td>\n",
       "      <td>491</td>\n",
       "      <td>491</td>\n",
       "      <td>445</td>\n",
       "    </tr>\n",
       "    <tr>\n",
       "      <th>unique</th>\n",
       "      <td>1</td>\n",
       "      <td>19</td>\n",
       "      <td>36</td>\n",
       "      <td>38</td>\n",
       "      <td>2</td>\n",
       "      <td>2</td>\n",
       "      <td>38</td>\n",
       "      <td>245</td>\n",
       "      <td>16</td>\n",
       "    </tr>\n",
       "    <tr>\n",
       "      <th>top</th>\n",
       "      <td>COLOMBIA</td>\n",
       "      <td>MAGDALENA</td>\n",
       "      <td>Santa Marta (CT)</td>\n",
       "      <td>COLOMBIA</td>\n",
       "      <td>MASCULINO</td>\n",
       "      <td>URBANA</td>\n",
       "      <td>COLOMBIA</td>\n",
       "      <td>2022-04-14</td>\n",
       "      <td>HURTO PERSONAS</td>\n",
       "    </tr>\n",
       "    <tr>\n",
       "      <th>freq</th>\n",
       "      <td>491</td>\n",
       "      <td>272</td>\n",
       "      <td>260</td>\n",
       "      <td>230</td>\n",
       "      <td>312</td>\n",
       "      <td>445</td>\n",
       "      <td>230</td>\n",
       "      <td>7</td>\n",
       "      <td>414</td>\n",
       "    </tr>\n",
       "  </tbody>\n",
       "</table>\n",
       "</div>"
      ],
      "text/plain": [
       "            PAÍS DEPARTAMENTO         MUNICIPIO PAIS VÍCTIMA     GENERO  \\\n",
       "count        491          491               491          491        491   \n",
       "unique         1           19                36           38          2   \n",
       "top     COLOMBIA    MAGDALENA  Santa Marta (CT)     COLOMBIA  MASCULINO   \n",
       "freq         491          272               260          230        312   \n",
       "\n",
       "          ZONA CIRCUNSTANCIASPERSONA       FECHA           DELITO  \n",
       "count      491                   491         491              445  \n",
       "unique       2                    38         245               16  \n",
       "top     URBANA              COLOMBIA  2022-04-14   HURTO PERSONAS  \n",
       "freq       445                   230           7              414  "
      ]
     },
     "execution_count": 10,
     "metadata": {},
     "output_type": "execute_result"
    }
   ],
   "source": [
    "df.describe()"
   ]
  },
  {
   "cell_type": "code",
   "execution_count": 11,
   "metadata": {},
   "outputs": [
    {
     "data": {
      "image/png": "[encoded data removed]",
      "text/plain": [
       "<Figure size 864x432 with 1 Axes>"
      ]
     },
     "metadata": {
      "needs_background": "light"
     },
     "output_type": "display_data"
    }
   ],
   "source": [
    "# Crear un gráfico de barras agrupadas\n",
    "plt.figure(figsize=(12, 6))\n",
    "sns.countplot(x='PAIS VÍCTIMA', hue='DELITO', data=df)\n",
    "plt.xticks(rotation=90)\n",
    "plt.title('Relación entre País de Origen y Delito')\n",
    "plt.legend(title='Delito', loc='upper right')\n",
    "plt.show()"
   ]
  },
  {
   "cell_type": "code",
   "execution_count": 84,
   "metadata": {},
   "outputs": [
    {
     "data": {
      "application/vnd.plotly.v1+json": {
       "config": {
        "plotlyServerURL": "https://plot.ly"
       },
       "data": [
        {
         "alignmentgroup": "True",
         "hovertemplate": "DELITO= AMENAZAS<br>PAIS VÍCTIMA=%{x}<br>Conteo=%{y}<extra></extra>",
         "legendgroup": " AMENAZAS",
         "marker": {
          "color": "#636efa",
          "pattern": {
           "shape": ""
          }
         },
         "name": " AMENAZAS",
         "offsetgroup": " AMENAZAS",
         "orientation": "v",
         "showlegend": true,
         "textposition": "auto",
         "type": "bar",
         "x": [
          "-"
         ],
         "xaxis": "x",
         "y": [
          1
         ],
         "yaxis": "y"
        },
        {
         "alignmentgroup": "True",
         "hovertemplate": "DELITO= HURTO PERSONAS<br>PAIS VÍCTIMA=%{x}<br>Conteo=%{y}<extra></extra>",
         "legendgroup": " HURTO PERSONAS",
         "marker": {
          "color": "#EF553B",
          "pattern": {
           "shape": ""
          }
         },
         "name": " HURTO PERSONAS",
         "offsetgroup": " HURTO PERSONAS",
         "orientation": "v",
         "showlegend": true,
         "textposition": "auto",
         "type": "bar",
         "x": [
          "-",
          "ALEMANIA",
          "ARABIA SAUDI",
          "ARGENTINA",
          "AUSTRALIA",
          "AUSTRIA",
          "BELGICA",
          "BRASIL",
          "CANADA",
          "CHILE",
          "CHINA",
          "COLOMBIA",
          "DINAMARCA",
          "ECUADOR",
          "ESLOVENIA",
          "ESPAÑA",
          "ESTADOS UNIDOS",
          "ESTONIA",
          "FRANCIA",
          "GUATEMALA",
          "HOLANDA",
          "IRAN",
          "ISRAEL",
          "ITALIA",
          "JAPON",
          "MEXICO",
          "NORUEGA",
          "NUEVA ZELANDA",
          "PANAMA",
          "PERU",
          "POLONIA",
          "REINO UNIDO",
          "REPUBLICA DOMINICANA",
          "SUIZA",
          "TURQUIA",
          "URUGUAY",
          "VENEZUELA"
         ],
         "xaxis": "x",
         "y": [
          26,
          11,
          1,
          5,
          4,
          1,
          6,
          3,
          5,
          1,
          2,
          201,
          3,
          6,
          1,
          11,
          38,
          1,
          17,
          1,
          9,
          1,
          6,
          6,
          5,
          6,
          2,
          1,
          2,
          3,
          2,
          6,
          1,
          3,
          1,
          1,
          15
         ],
         "yaxis": "y"
        },
        {
         "alignmentgroup": "True",
         "hovertemplate": "DELITO= HURTO RESIDENCIAS<br>PAIS VÍCTIMA=%{x}<br>Conteo=%{y}<extra></extra>",
         "legendgroup": " HURTO RESIDENCIAS",
         "marker": {
          "color": "#00cc96",
          "pattern": {
           "shape": ""
          }
         },
         "name": " HURTO RESIDENCIAS",
         "offsetgroup": " HURTO RESIDENCIAS",
         "orientation": "v",
         "showlegend": true,
         "textposition": "auto",
         "type": "bar",
         "x": [
          "-",
          "COLOMBIA",
          "ESPAÑA",
          "JAPON",
          "LIBANO",
          "URUGUAY"
         ],
         "xaxis": "x",
         "y": [
          1,
          1,
          1,
          1,
          1,
          1
         ],
         "yaxis": "y"
        },
        {
         "alignmentgroup": "True",
         "hovertemplate": "DELITO= HURTO MOTOCICLETAS<br>PAIS VÍCTIMA=%{x}<br>Conteo=%{y}<extra></extra>",
         "legendgroup": " HURTO MOTOCICLETAS",
         "marker": {
          "color": "#ab63fa",
          "pattern": {
           "shape": ""
          }
         },
         "name": " HURTO MOTOCICLETAS",
         "offsetgroup": " HURTO MOTOCICLETAS",
         "orientation": "v",
         "showlegend": true,
         "textposition": "auto",
         "type": "bar",
         "x": [
          "ALEMANIA"
         ],
         "xaxis": "x",
         "y": [
          1
         ],
         "yaxis": "y"
        },
        {
         "alignmentgroup": "True",
         "hovertemplate": "DELITO= HURTO POR MEDIOS INFORMÁTICOS Y SEMEJANTES<br>PAIS VÍCTIMA=%{x}<br>Conteo=%{y}<extra></extra>",
         "legendgroup": " HURTO POR MEDIOS INFORMÁTICOS Y SEMEJANTES",
         "marker": {
          "color": "#FFA15A",
          "pattern": {
           "shape": ""
          }
         },
         "name": " HURTO POR MEDIOS INFORMÁTICOS Y SEMEJANTES",
         "offsetgroup": " HURTO POR MEDIOS INFORMÁTICOS Y SEMEJANTES",
         "orientation": "v",
         "showlegend": true,
         "textposition": "auto",
         "type": "bar",
         "x": [
          "ALEMANIA",
          "BELGICA",
          "COLOMBIA",
          "ESTADOS UNIDOS"
         ],
         "xaxis": "x",
         "y": [
          1,
          1,
          3,
          1
         ],
         "yaxis": "y"
        },
        {
         "alignmentgroup": "True",
         "hovertemplate": "DELITO= VIOLACIÓN DE DATOS PERSONALES<br>PAIS VÍCTIMA=%{x}<br>Conteo=%{y}<extra></extra>",
         "legendgroup": " VIOLACIÓN DE DATOS PERSONALES",
         "marker": {
          "color": "#19d3f3",
          "pattern": {
           "shape": ""
          }
         },
         "name": " VIOLACIÓN DE DATOS PERSONALES",
         "offsetgroup": " VIOLACIÓN DE DATOS PERSONALES",
         "orientation": "v",
         "showlegend": true,
         "textposition": "auto",
         "type": "bar",
         "x": [
          "ALEMANIA"
         ],
         "xaxis": "x",
         "y": [
          1
         ],
         "yaxis": "y"
        },
        {
         "alignmentgroup": "True",
         "hovertemplate": "DELITO= ACCESO CARNAL O ACTO SEXUAL EN PERSONA PUESTA EN INCAPACIDAD DE RESISTIR<br>PAIS VÍCTIMA=%{x}<br>Conteo=%{y}<extra></extra>",
         "legendgroup": " ACCESO CARNAL O ACTO SEXUAL EN PERSONA PUESTA EN INCAPACIDAD DE RESISTIR",
         "marker": {
          "color": "#FF6692",
          "pattern": {
           "shape": ""
          }
         },
         "name": " ACCESO CARNAL O ACTO SEXUAL EN PERSONA PUESTA EN INCAPACIDAD DE RESISTIR",
         "offsetgroup": " ACCESO CARNAL O ACTO SEXUAL EN PERSONA PUESTA EN INCAPACIDAD DE RESISTIR",
         "orientation": "v",
         "showlegend": true,
         "textposition": "auto",
         "type": "bar",
         "x": [
          "BRASIL"
         ],
         "xaxis": "x",
         "y": [
          1
         ],
         "yaxis": "y"
        },
        {
         "alignmentgroup": "True",
         "hovertemplate": "DELITO= ACCESO CARNAL VIOLENTO<br>PAIS VÍCTIMA=%{x}<br>Conteo=%{y}<extra></extra>",
         "legendgroup": " ACCESO CARNAL VIOLENTO",
         "marker": {
          "color": "#B6E880",
          "pattern": {
           "shape": ""
          }
         },
         "name": " ACCESO CARNAL VIOLENTO",
         "offsetgroup": " ACCESO CARNAL VIOLENTO",
         "orientation": "v",
         "showlegend": true,
         "textposition": "auto",
         "type": "bar",
         "x": [
          "CHILE"
         ],
         "xaxis": "x",
         "y": [
          1
         ],
         "yaxis": "y"
        },
        {
         "alignmentgroup": "True",
         "hovertemplate": "DELITO= ACTO SEXUAL VIOLENTO<br>PAIS VÍCTIMA=%{x}<br>Conteo=%{y}<extra></extra>",
         "legendgroup": " ACTO SEXUAL VIOLENTO",
         "marker": {
          "color": "#FF97FF",
          "pattern": {
           "shape": ""
          }
         },
         "name": " ACTO SEXUAL VIOLENTO",
         "offsetgroup": " ACTO SEXUAL VIOLENTO",
         "orientation": "v",
         "showlegend": true,
         "textposition": "auto",
         "type": "bar",
         "x": [
          "CHILE"
         ],
         "xaxis": "x",
         "y": [
          1
         ],
         "yaxis": "y"
        },
        {
         "alignmentgroup": "True",
         "hovertemplate": "DELITO= HURTO AUTOMOTORES<br>PAIS VÍCTIMA=%{x}<br>Conteo=%{y}<extra></extra>",
         "legendgroup": " HURTO AUTOMOTORES",
         "marker": {
          "color": "#FECB52",
          "pattern": {
           "shape": ""
          }
         },
         "name": " HURTO AUTOMOTORES",
         "offsetgroup": " HURTO AUTOMOTORES",
         "orientation": "v",
         "showlegend": true,
         "textposition": "auto",
         "type": "bar",
         "x": [
          "COLOMBIA"
         ],
         "xaxis": "x",
         "y": [
          1
         ],
         "yaxis": "y"
        },
        {
         "alignmentgroup": "True",
         "hovertemplate": "DELITO= LESIONES PERSONALES<br>PAIS VÍCTIMA=%{x}<br>Conteo=%{y}<extra></extra>",
         "legendgroup": " LESIONES PERSONALES",
         "marker": {
          "color": "#636efa",
          "pattern": {
           "shape": ""
          }
         },
         "name": " LESIONES PERSONALES",
         "offsetgroup": " LESIONES PERSONALES",
         "orientation": "v",
         "showlegend": true,
         "textposition": "auto",
         "type": "bar",
         "x": [
          "COLOMBIA",
          "ESTADOS UNIDOS",
          "ITALIA",
          "SUIZA"
         ],
         "xaxis": "x",
         "y": [
          3,
          1,
          1,
          1
         ],
         "yaxis": "y"
        },
        {
         "alignmentgroup": "True",
         "hovertemplate": "DELITO= HOMICIDIO<br>PAIS VÍCTIMA=%{x}<br>Conteo=%{y}<extra></extra>",
         "legendgroup": " HOMICIDIO",
         "marker": {
          "color": "#EF553B",
          "pattern": {
           "shape": ""
          }
         },
         "name": " HOMICIDIO",
         "offsetgroup": " HOMICIDIO",
         "orientation": "v",
         "showlegend": true,
         "textposition": "auto",
         "type": "bar",
         "x": [
          "ESTADOS UNIDOS",
          "HOLANDA"
         ],
         "xaxis": "x",
         "y": [
          1,
          1
         ],
         "yaxis": "y"
        },
        {
         "alignmentgroup": "True",
         "hovertemplate": "DELITO= ESTAFA<br>PAIS VÍCTIMA=%{x}<br>Conteo=%{y}<extra></extra>",
         "legendgroup": " ESTAFA",
         "marker": {
          "color": "#00cc96",
          "pattern": {
           "shape": ""
          }
         },
         "name": " ESTAFA",
         "offsetgroup": " ESTAFA",
         "orientation": "v",
         "showlegend": true,
         "textposition": "auto",
         "type": "bar",
         "x": [
          "FRANCIA"
         ],
         "xaxis": "x",
         "y": [
          1
         ],
         "yaxis": "y"
        },
        {
         "alignmentgroup": "True",
         "hovertemplate": "DELITO= EXTORSIÓN<br>PAIS VÍCTIMA=%{x}<br>Conteo=%{y}<extra></extra>",
         "legendgroup": " EXTORSIÓN",
         "marker": {
          "color": "#ab63fa",
          "pattern": {
           "shape": ""
          }
         },
         "name": " EXTORSIÓN",
         "offsetgroup": " EXTORSIÓN",
         "orientation": "v",
         "showlegend": true,
         "textposition": "auto",
         "type": "bar",
         "x": [
          "FRANCIA"
         ],
         "xaxis": "x",
         "y": [
          1
         ],
         "yaxis": "y"
        },
        {
         "alignmentgroup": "True",
         "hovertemplate": "DELITO= RECEPTACIÓN<br>PAIS VÍCTIMA=%{x}<br>Conteo=%{y}<extra></extra>",
         "legendgroup": " RECEPTACIÓN",
         "marker": {
          "color": "#FFA15A",
          "pattern": {
           "shape": ""
          }
         },
         "name": " RECEPTACIÓN",
         "offsetgroup": " RECEPTACIÓN",
         "orientation": "v",
         "showlegend": true,
         "textposition": "auto",
         "type": "bar",
         "x": [
          "FRANCIA"
         ],
         "xaxis": "x",
         "y": [
          1
         ],
         "yaxis": "y"
        },
        {
         "alignmentgroup": "True",
         "hovertemplate": "DELITO= SECUESTRO EXTORSIVO<br>PAIS VÍCTIMA=%{x}<br>Conteo=%{y}<extra></extra>",
         "legendgroup": " SECUESTRO EXTORSIVO",
         "marker": {
          "color": "#19d3f3",
          "pattern": {
           "shape": ""
          }
         },
         "name": " SECUESTRO EXTORSIVO",
         "offsetgroup": " SECUESTRO EXTORSIVO",
         "orientation": "v",
         "showlegend": true,
         "textposition": "auto",
         "type": "bar",
         "x": [
          "MEXICO"
         ],
         "xaxis": "x",
         "y": [
          1
         ],
         "yaxis": "y"
        }
       ],
       "layout": {
        "barmode": "relative",
        "legend": {
         "title": {
          "text": "DELITO"
         },
         "tracegroupgap": 0
        },
        "showlegend": true,
        "template": {
         "data": {
          "bar": [
           {
            "error_x": {
             "color": "#2a3f5f"
            },
            "error_y": {
             "color": "#2a3f5f"
            },
            "marker": {
             "line": {
              "color": "#E5ECF6",
              "width": 0.5
             },
             "pattern": {
              "fillmode": "overlay",
              "size": 10,
              "solidity": 0.2
             }
            },
            "type": "bar"
           }
          ],
          "barpolar": [
           {
            "marker": {
             "line": {
              "color": "#E5ECF6",
              "width": 0.5
             },
             "pattern": {
              "fillmode": "overlay",
              "size": 10,
              "solidity": 0.2
             }
            },
            "type": "barpolar"
           }
          ],
          "carpet": [
           {
            "aaxis": {
             "endlinecolor": "#2a3f5f",
             "gridcolor": "white",
             "linecolor": "white",
             "minorgridcolor": "white",
             "startlinecolor": "#2a3f5f"
            },
            "baxis": {
             "endlinecolor": "#2a3f5f",
             "gridcolor": "white",
             "linecolor": "white",
             "minorgridcolor": "white",
             "startlinecolor": "#2a3f5f"
            },
            "type": "carpet"
           }
          ],
          "choropleth": [
           {
            "colorbar": {
             "outlinewidth": 0,
             "ticks": ""
            },
            "type": "choropleth"
           }
          ],
          "contour": [
           {
            "colorbar": {
             "outlinewidth": 0,
             "ticks": ""
            },
            "colorscale": [
             [
              0,
              "#0d0887"
             ],
             [
              0.1111111111111111,
              "#46039f"
             ],
             [
              0.2222222222222222,
              "#7201a8"
             ],
             [
              0.3333333333333333,
              "#9c179e"
             ],
             [
              0.4444444444444444,
              "#bd3786"
             ],
             [
              0.5555555555555556,
              "#d8576b"
             ],
             [
              0.6666666666666666,
              "#ed7953"
             ],
             [
              0.7777777777777778,
              "#fb9f3a"
             ],
             [
              0.8888888888888888,
              "#fdca26"
             ],
             [
              1,
              "#f0f921"
             ]
            ],
            "type": "contour"
           }
          ],
          "contourcarpet": [
           {
            "colorbar": {
             "outlinewidth": 0,
             "ticks": ""
            },
            "type": "contourcarpet"
           }
          ],
          "heatmap": [
           {
            "colorbar": {
             "outlinewidth": 0,
             "ticks": ""
            },
            "colorscale": [
             [
              0,
              "#0d0887"
             ],
             [
              0.1111111111111111,
              "#46039f"
             ],
             [
              0.2222222222222222,
              "#7201a8"
             ],
             [
              0.3333333333333333,
              "#9c179e"
             ],
             [
              0.4444444444444444,
              "#bd3786"
             ],
             [
              0.5555555555555556,
              "#d8576b"
             ],
             [
              0.6666666666666666,
              "#ed7953"
             ],
             [
              0.7777777777777778,
              "#fb9f3a"
             ],
             [
              0.8888888888888888,
              "#fdca26"
             ],
             [
              1,
              "#f0f921"
             ]
            ],
            "type": "heatmap"
           }
          ],
          "heatmapgl": [
           {
            "colorbar": {
             "outlinewidth": 0,
             "ticks": ""
            },
            "colorscale": [
             [
              0,
              "#0d0887"
             ],
             [
              0.1111111111111111,
              "#46039f"
             ],
             [
              0.2222222222222222,
              "#7201a8"
             ],
             [
              0.3333333333333333,
              "#9c179e"
             ],
             [
              0.4444444444444444,
              "#bd3786"
             ],
             [
              0.5555555555555556,
              "#d8576b"
             ],
             [
              0.6666666666666666,
              "#ed7953"
             ],
             [
              0.7777777777777778,
              "#fb9f3a"
             ],
             [
              0.8888888888888888,
              "#fdca26"
             ],
             [
              1,
              "#f0f921"
             ]
            ],
            "type": "heatmapgl"
           }
          ],
          "histogram": [
           {
            "marker": {
             "pattern": {
              "fillmode": "overlay",
              "size": 10,
              "solidity": 0.2
             }
            },
            "type": "histogram"
           }
          ],
          "histogram2d": [
           {
            "colorbar": {
             "outlinewidth": 0,
             "ticks": ""
            },
            "colorscale": [
             [
              0,
              "#0d0887"
             ],
             [
              0.1111111111111111,
              "#46039f"
             ],
             [
              0.2222222222222222,
              "#7201a8"
             ],
             [
              0.3333333333333333,
              "#9c179e"
             ],
             [
              0.4444444444444444,
              "#bd3786"
             ],
             [
              0.5555555555555556,
              "#d8576b"
             ],
             [
              0.6666666666666666,
              "#ed7953"
             ],
             [
              0.7777777777777778,
              "#fb9f3a"
             ],
             [
              0.8888888888888888,
              "#fdca26"
             ],
             [
              1,
              "#f0f921"
             ]
            ],
            "type": "histogram2d"
           }
          ],
          "histogram2dcontour": [
           {
            "colorbar": {
             "outlinewidth": 0,
             "ticks": ""
            },
            "colorscale": [
             [
              0,
              "#0d0887"
             ],
             [
              0.1111111111111111,
              "#46039f"
             ],
             [
              0.2222222222222222,
              "#7201a8"
             ],
             [
              0.3333333333333333,
              "#9c179e"
             ],
             [
              0.4444444444444444,
              "#bd3786"
             ],
             [
              0.5555555555555556,
              "#d8576b"
             ],
             [
              0.6666666666666666,
              "#ed7953"
             ],
             [
              0.7777777777777778,
              "#fb9f3a"
             ],
             [
              0.8888888888888888,
              "#fdca26"
             ],
             [
              1,
              "#f0f921"
             ]
            ],
            "type": "histogram2dcontour"
           }
          ],
          "mesh3d": [
           {
            "colorbar": {
             "outlinewidth": 0,
             "ticks": ""
            },
            "type": "mesh3d"
           }
          ],
          "parcoords": [
           {
            "line": {
             "colorbar": {
              "outlinewidth": 0,
              "ticks": ""
             }
            },
            "type": "parcoords"
           }
          ],
          "pie": [
           {
            "automargin": true,
            "type": "pie"
           }
          ],
          "scatter": [
           {
            "marker": {
             "colorbar": {
              "outlinewidth": 0,
              "ticks": ""
             }
            },
            "type": "scatter"
           }
          ],
          "scatter3d": [
           {
            "line": {
             "colorbar": {
              "outlinewidth": 0,
              "ticks": ""
             }
            },
            "marker": {
             "colorbar": {
              "outlinewidth": 0,
              "ticks": ""
             }
            },
            "type": "scatter3d"
           }
          ],
          "scattercarpet": [
           {
            "marker": {
             "colorbar": {
              "outlinewidth": 0,
              "ticks": ""
             }
            },
            "type": "scattercarpet"
           }
          ],
          "scattergeo": [
           {
            "marker": {
             "colorbar": {
              "outlinewidth": 0,
              "ticks": ""
             }
            },
            "type": "scattergeo"
           }
          ],
          "scattergl": [
           {
            "marker": {
             "colorbar": {
              "outlinewidth": 0,
              "ticks": ""
             }
            },
            "type": "scattergl"
           }
          ],
          "scattermapbox": [
           {
            "marker": {
             "colorbar": {
              "outlinewidth": 0,
              "ticks": ""
             }
            },
            "type": "scattermapbox"
           }
          ],
          "scatterpolar": [
           {
            "marker": {
             "colorbar": {
              "outlinewidth": 0,
              "ticks": ""
             }
            },
            "type": "scatterpolar"
           }
          ],
          "scatterpolargl": [
           {
            "marker": {
             "colorbar": {
              "outlinewidth": 0,
              "ticks": ""
             }
            },
            "type": "scatterpolargl"
           }
          ],
          "scatterternary": [
           {
            "marker": {
             "colorbar": {
              "outlinewidth": 0,
              "ticks": ""
             }
            },
            "type": "scatterternary"
           }
          ],
          "surface": [
           {
            "colorbar": {
             "outlinewidth": 0,
             "ticks": ""
            },
            "colorscale": [
             [
              0,
              "#0d0887"
             ],
             [
              0.1111111111111111,
              "#46039f"
             ],
             [
              0.2222222222222222,
              "#7201a8"
             ],
             [
              0.3333333333333333,
              "#9c179e"
             ],
             [
              0.4444444444444444,
              "#bd3786"
             ],
             [
              0.5555555555555556,
              "#d8576b"
             ],
             [
              0.6666666666666666,
              "#ed7953"
             ],
             [
              0.7777777777777778,
              "#fb9f3a"
             ],
             [
              0.8888888888888888,
              "#fdca26"
             ],
             [
              1,
              "#f0f921"
             ]
            ],
            "type": "surface"
           }
          ],
          "table": [
           {
            "cells": {
             "fill": {
              "color": "#EBF0F8"
             },
             "line": {
              "color": "white"
             }
            },
            "header": {
             "fill": {
              "color": "#C8D4E3"
             },
             "line": {
              "color": "white"
             }
            },
            "type": "table"
           }
          ]
         },
         "layout": {
          "annotationdefaults": {
           "arrowcolor": "#2a3f5f",
           "arrowhead": 0,
           "arrowwidth": 1
          },
          "autotypenumbers": "strict",
          "coloraxis": {
           "colorbar": {
            "outlinewidth": 0,
            "ticks": ""
           }
          },
          "colorscale": {
           "diverging": [
            [
             0,
             "#8e0152"
            ],
            [
             0.1,
             "#c51b7d"
            ],
            [
             0.2,
             "#de77ae"
            ],
            [
             0.3,
             "#f1b6da"
            ],
            [
             0.4,
             "#fde0ef"
            ],
            [
             0.5,
             "#f7f7f7"
            ],
            [
             0.6,
             "#e6f5d0"
            ],
            [
             0.7,
             "#b8e186"
            ],
            [
             0.8,
             "#7fbc41"
            ],
            [
             0.9,
             "#4d9221"
            ],
            [
             1,
             "#276419"
            ]
           ],
           "sequential": [
            [
             0,
             "#0d0887"
            ],
            [
             0.1111111111111111,
             "#46039f"
            ],
            [
             0.2222222222222222,
             "#7201a8"
            ],
            [
             0.3333333333333333,
             "#9c179e"
            ],
            [
             0.4444444444444444,
             "#bd3786"
            ],
            [
             0.5555555555555556,
             "#d8576b"
            ],
            [
             0.6666666666666666,
             "#ed7953"
            ],
            [
             0.7777777777777778,
             "#fb9f3a"
            ],
            [
             0.8888888888888888,
             "#fdca26"
            ],
            [
             1,
             "#f0f921"
            ]
           ],
           "sequentialminus": [
            [
             0,
             "#0d0887"
            ],
            [
             0.1111111111111111,
             "#46039f"
            ],
            [
             0.2222222222222222,
             "#7201a8"
            ],
            [
             0.3333333333333333,
             "#9c179e"
            ],
            [
             0.4444444444444444,
             "#bd3786"
            ],
            [
             0.5555555555555556,
             "#d8576b"
            ],
            [
             0.6666666666666666,
             "#ed7953"
            ],
            [
             0.7777777777777778,
             "#fb9f3a"
            ],
            [
             0.8888888888888888,
             "#fdca26"
            ],
            [
             1,
             "#f0f921"
            ]
           ]
          },
          "colorway": [
           "#636efa",
           "#EF553B",
           "#00cc96",
           "#ab63fa",
           "#FFA15A",
           "#19d3f3",
           "#FF6692",
           "#B6E880",
           "#FF97FF",
           "#FECB52"
          ],
          "font": {
           "color": "#2a3f5f"
          },
          "geo": {
           "bgcolor": "white",
           "lakecolor": "white",
           "landcolor": "#E5ECF6",
           "showlakes": true,
           "showland": true,
           "subunitcolor": "white"
          },
          "hoverlabel": {
           "align": "left"
          },
          "hovermode": "closest",
          "mapbox": {
           "style": "light"
          },
          "paper_bgcolor": "white",
          "plot_bgcolor": "#E5ECF6",
          "polar": {
           "angularaxis": {
            "gridcolor": "white",
            "linecolor": "white",
            "ticks": ""
           },
           "bgcolor": "#E5ECF6",
           "radialaxis": {
            "gridcolor": "white",
            "linecolor": "white",
            "ticks": ""
           }
          },
          "scene": {
           "xaxis": {
            "backgroundcolor": "#E5ECF6",
            "gridcolor": "white",
            "gridwidth": 2,
            "linecolor": "white",
            "showbackground": true,
            "ticks": "",
            "zerolinecolor": "white"
           },
           "yaxis": {
            "backgroundcolor": "#E5ECF6",
            "gridcolor": "white",
            "gridwidth": 2,
            "linecolor": "white",
            "showbackground": true,
            "ticks": "",
            "zerolinecolor": "white"
           },
           "zaxis": {
            "backgroundcolor": "#E5ECF6",
            "gridcolor": "white",
            "gridwidth": 2,
            "linecolor": "white",
            "showbackground": true,
            "ticks": "",
            "zerolinecolor": "white"
           }
          },
          "shapedefaults": {
           "line": {
            "color": "#2a3f5f"
           }
          },
          "ternary": {
           "aaxis": {
            "gridcolor": "white",
            "linecolor": "white",
            "ticks": ""
           },
           "baxis": {
            "gridcolor": "white",
            "linecolor": "white",
            "ticks": ""
           },
           "bgcolor": "#E5ECF6",
           "caxis": {
            "gridcolor": "white",
            "linecolor": "white",
            "ticks": ""
           }
          },
          "title": {
           "x": 0.05
          },
          "xaxis": {
           "automargin": true,
           "gridcolor": "white",
           "linecolor": "white",
           "ticks": "",
           "title": {
            "standoff": 15
           },
           "zerolinecolor": "white",
           "zerolinewidth": 2
          },
          "yaxis": {
           "automargin": true,
           "gridcolor": "white",
           "linecolor": "white",
           "ticks": "",
           "title": {
            "standoff": 15
           },
           "zerolinecolor": "white",
           "zerolinewidth": 2
          }
         }
        },
        "title": {
         "text": "Conteo de Delitos por País de Origen"
        },
        "xaxis": {
         "anchor": "y",
         "domain": [
          0,
          1
         ],
         "title": {
          "text": "País de Origen"
         }
        },
        "yaxis": {
         "anchor": "x",
         "domain": [
          0,
          1
         ],
         "title": {
          "text": "Conteo de Delitos"
         }
        }
       }
      }
     },
     "metadata": {},
     "output_type": "display_data"
    }
   ],
   "source": [
    "# Agrupar y contar los delitos por país\n",
    "conteo_paises_delitos = df.groupby(['PAIS VÍCTIMA', 'DELITO']).size().reset_index(name='Conteo')\n",
    "\n",
    "# Crear una gráfica interactiva de barras\n",
    "fig = px.bar(conteo_paises_delitos, x='PAIS VÍCTIMA', y='Conteo', color='DELITO', title='Conteo de Delitos por País de Origen')\n",
    "\n",
    "# Configurar el diseño de la gráfica\n",
    "fig.update_layout(\n",
    "    xaxis_title='País de Origen',\n",
    "    yaxis_title='Conteo de Delitos',\n",
    "    showlegend=True\n",
    ")\n",
    "\n",
    "# Mostrar la gráfica interactiva\n",
    "fig.show()"
   ]
  },
  {
   "cell_type": "code",
   "execution_count": 35,
   "metadata": {},
   "outputs": [
    {
     "data": {
      "text/html": [
       "\n",
       "        <iframe\n",
       "            width=\"100%\"\n",
       "            height=\"650\"\n",
       "            src=\"http://127.0.0.1:8050/\"\n",
       "            frameborder=\"0\"\n",
       "            allowfullscreen\n",
       "            \n",
       "        ></iframe>\n",
       "        "
      ],
      "text/plain": [
       "<IPython.lib.display.IFrame at 0x1b45c405f70>"
      ]
     },
     "metadata": {},
     "output_type": "display_data"
    }
   ],
   "source": [
    "# Crear una gráfica interactiva de barras con todos los países por defecto\n",
    "fig = px.bar(conteo_paises_delitos, x='DELITO', y='Conteo', color='PAIS VÍCTIMA', title='Conteo de Delitos por País de Origen')\n",
    "\n",
    "# Obtener la lista de países víctimas para el dropdown\n",
    "paises_victimas = ['Todos los Países'] + list(conteo_paises_delitos['PAIS VÍCTIMA'].unique())\n",
    "\n",
    "# Inicializar la aplicación de Dash\n",
    "app = dash.Dash(__name__)\n",
    "\n",
    "# Definir el diseño de la aplicación\n",
    "app.layout = html.Div([\n",
    "    html.H4('Conteo de Delitos por País de Origen'),\n",
    "    dcc.Dropdown(\n",
    "        id=\"dropdown\",\n",
    "        options=[{'label': pais, 'value': pais} for pais in paises_victimas],\n",
    "        value='Todos los Países',\n",
    "        clearable=False,\n",
    "    ),\n",
    "    dcc.Graph(id=\"graph\"),\n",
    "])\n",
    "\n",
    "# Definir el callback para actualizar la gráfica de barras\n",
    "@app.callback(\n",
    "    Output(\"graph\", \"figure\"), \n",
    "    Input(\"dropdown\", \"value\"))\n",
    "def update_bar_chart(pais_seleccionado):\n",
    "    if pais_seleccionado == 'Todos los Países':\n",
    "        datos_filtrados = conteo_paises_delitos\n",
    "    else:\n",
    "        datos_filtrados = conteo_paises_delitos[conteo_paises_delitos['PAIS VÍCTIMA'] == pais_seleccionado]\n",
    "    fig = px.bar(datos_filtrados, x=\"DELITO\", y=\"Conteo\", color=\"PAIS VÍCTIMA\", title=f'Conteo de Delitos por País de Origen')\n",
    "    fig.update_layout(\n",
    "        xaxis_title='Delito',\n",
    "        yaxis_title='Conteo de Delitos',\n",
    "        showlegend=True,\n",
    "        legend_title_text='País de Origen'\n",
    "    )\n",
    "    return fig\n",
    "\n",
    "# Iniciar la aplicación\n",
    "if __name__ == '__main__':\n",
    "    app.run_server(debug=True)"
   ]
  },
  {
   "cell_type": "code",
   "execution_count": null,
   "metadata": {},
   "outputs": [],
   "source": []
  }
 ],
 "metadata": {
  "kernelspec": {
   "display_name": "Financiero",
   "language": "python",
   "name": "python3"
  },
  "language_info": {
   "codemirror_mode": {
    "name": "ipython",
    "version": 3
   },
   "file_extension": ".py",
   "mimetype": "text/x-python",
   "name": "python",
   "nbconvert_exporter": "python",
   "pygments_lexer": "ipython3",
   "version": "3.9.12"
  },
  "orig_nbformat": 4
 },
 "nbformat": 4,
 "nbformat_minor": 2
}
