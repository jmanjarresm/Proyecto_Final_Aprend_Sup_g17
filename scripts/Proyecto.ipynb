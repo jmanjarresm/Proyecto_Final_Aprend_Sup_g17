{
 "cells": [
  {
   "cell_type": "markdown",
   "metadata": {},
   "source": [
    "# Desarrollo del Proyecto\n",
    "\n",
    "## Objetivo\n",
    "\n",
    "El objetivo principal de este proyecto es aplicar el algoritmo de Agglomerative Hierarchical Clustering para identificar los municipios en los que se debe enfocar un mayor esfuerzo y recursos con el fin de combatir los homicidios contra un segmento de la población especialmente vulnerable, como lo son los niños, niñas y adolescentes. El enfoque en este grupo demográfico se debe a la importancia de proteger a los más jóvenes de la sociedad y garantizar su seguridad. El proyecto busca agrupar municipios con perfiles similares en términos de homicidios contra este grupo, lo que permitirá una asignación más eficiente de recursos y esfuerzos preventivos.\n",
    "\n",
    "## Desarrollo\n",
    "\n",
    "El desarrollo de este proyecto se llevará a cabo en las siguientes etapas:\n",
    "\n",
    "### Análisis Descriptivo de la Información\n",
    "\n",
    "#### Analisis Exploratorio de Datos y Preprocesamiento de la Información\n",
    "\n",
    "En esta fase inicial, se realizará un análisis detallado de los datos disponibles. Se verificarán las características de la información, se identificarán posibles datos atípicos y se llevará a cabo la limpieza y preparación de los datos para su posterior análisis. Este paso es fundamental para garantizar la calidad y confiabilidad de los resultados del clustering.\n",
    "\n",
    "### Clustering con Agglomerative Hierarchical Clustering\n",
    "\n",
    "En esta etapa central del proyecto, se aplicará el algoritmo de Agglomerative Hierarchical Clustering. Este algoritmo es especialmente adecuado para el caso, ya que puede manejar datos mixtos, incluyendo variables categóricas y numéricas. Se exploraran diferentes enfoques y configuraciones para identificar los grupos de municipios que presentan patrones similares en términos de homicidios contra niños, niñas y adolescentes. Se dara uso técnicas de visualización, como dendrogramas, para comprender la estructura de los grupos.\n",
    "\n",
    "### Resultados y Evaluación\n",
    "\n",
    "Una vez completado el proceso de clustering, se evaluaran los resultados obtenidos. Se analizara la composición de los grupos identificados y verificando si existen diferencias significativas en los niveles de homicidios entre los grupos. También se examinara la coherencia interna de los grupos y su capacidad para identificar municipios con necesidades similares en términos de prevención de homicidios.\n",
    "\n",
    "### Conclusiones y Recomendaciones\n",
    "\n",
    "Finalmente, con base en los resultados obtenidos, se determinaran conclusiones importantes y daran recomendaciones para la toma de decisiones identificando los municipios que requieren una atención prioritaria en la lucha contra los homicidios dirigidos a niños, niñas y adolescentes."
   ]
  },
  {
   "cell_type": "code",
   "execution_count": 1,
   "metadata": {},
   "outputs": [],
   "source": [
    "## Se cargan las líbrerias que a las que se le dara uso para el desarrollo de este proyecto\n",
    "import pandas as pd\n",
    "import numpy as np\n",
    "import seaborn as sns\n",
    "import matplotlib.pyplot as plt\n",
    "from sklearn.cluster import AgglomerativeClustering\n",
    "from scipy.cluster.hierarchy import linkage, fcluster\n",
    "from scipy.cluster.hierarchy import dendrogram\n",
    "from sklearn.preprocessing import StandardScaler\n",
    "from sklearn.neighbors import NearestNeighbors\n",
    "from gower import gower_matrix\n",
    "from kneed import KneeLocator"
   ]
  },
  {
   "cell_type": "markdown",
   "metadata": {},
   "source": [
    "### Analisis Descriptivo de la Información\n",
    "\n",
    "Se procede a cargar la información y realizar un analissi de los datos de los que se dispone en la base de datos obtenidas del CEDE."
   ]
  },
  {
   "cell_type": "code",
   "execution_count": 2,
   "metadata": {},
   "outputs": [
    {
     "data": {
      "text/html": [
       "<div>\n",
       "<style scoped>\n",
       "    .dataframe tbody tr th:only-of-type {\n",
       "        vertical-align: middle;\n",
       "    }\n",
       "\n",
       "    .dataframe tbody tr th {\n",
       "        vertical-align: top;\n",
       "    }\n",
       "\n",
       "    .dataframe thead th {\n",
       "        text-align: right;\n",
       "    }\n",
       "</style>\n",
       "<table border=\"1\" class=\"dataframe\">\n",
       "  <thead>\n",
       "    <tr style=\"text-align: right;\">\n",
       "      <th></th>\n",
       "      <th>Departamento</th>\n",
       "      <th>Municipio</th>\n",
       "      <th>coddepto</th>\n",
       "      <th>codmpio</th>\n",
       "      <th>fecha</th>\n",
       "      <th>genero</th>\n",
       "      <th>edad</th>\n",
       "      <th>grupo_edad</th>\n",
       "      <th>n_homicidios</th>\n",
       "    </tr>\n",
       "  </thead>\n",
       "  <tbody>\n",
       "    <tr>\n",
       "      <th>0</th>\n",
       "      <td>Antioquia</td>\n",
       "      <td>Medellín</td>\n",
       "      <td>5</td>\n",
       "      <td>5001</td>\n",
       "      <td>2003-01-01</td>\n",
       "      <td>MASCULINO</td>\n",
       "      <td>27.0</td>\n",
       "      <td>ADULTOS</td>\n",
       "      <td>1.0</td>\n",
       "    </tr>\n",
       "    <tr>\n",
       "      <th>1</th>\n",
       "      <td>Antioquia</td>\n",
       "      <td>Medellín</td>\n",
       "      <td>5</td>\n",
       "      <td>5001</td>\n",
       "      <td>2003-01-01</td>\n",
       "      <td>FEMENINO</td>\n",
       "      <td>19.0</td>\n",
       "      <td>ADULTOS</td>\n",
       "      <td>1.0</td>\n",
       "    </tr>\n",
       "    <tr>\n",
       "      <th>2</th>\n",
       "      <td>Antioquia</td>\n",
       "      <td>Medellín</td>\n",
       "      <td>5</td>\n",
       "      <td>5001</td>\n",
       "      <td>2003-01-01</td>\n",
       "      <td>MASCULINO</td>\n",
       "      <td>18.0</td>\n",
       "      <td>ADULTOS</td>\n",
       "      <td>2.0</td>\n",
       "    </tr>\n",
       "    <tr>\n",
       "      <th>3</th>\n",
       "      <td>Antioquia</td>\n",
       "      <td>Medellín</td>\n",
       "      <td>5</td>\n",
       "      <td>5001</td>\n",
       "      <td>2003-01-01</td>\n",
       "      <td>MASCULINO</td>\n",
       "      <td>43.0</td>\n",
       "      <td>ADULTOS</td>\n",
       "      <td>1.0</td>\n",
       "    </tr>\n",
       "    <tr>\n",
       "      <th>4</th>\n",
       "      <td>Antioquia</td>\n",
       "      <td>Medellín</td>\n",
       "      <td>5</td>\n",
       "      <td>5001</td>\n",
       "      <td>2003-01-01</td>\n",
       "      <td>MASCULINO</td>\n",
       "      <td>28.0</td>\n",
       "      <td>ADULTOS</td>\n",
       "      <td>1.0</td>\n",
       "    </tr>\n",
       "  </tbody>\n",
       "</table>\n",
       "</div>"
      ],
      "text/plain": [
       "  Departamento Municipio  coddepto  codmpio      fecha     genero  edad  \\\n",
       "0    Antioquia  Medellín         5     5001 2003-01-01  MASCULINO  27.0   \n",
       "1    Antioquia  Medellín         5     5001 2003-01-01   FEMENINO  19.0   \n",
       "2    Antioquia  Medellín         5     5001 2003-01-01  MASCULINO  18.0   \n",
       "3    Antioquia  Medellín         5     5001 2003-01-01  MASCULINO  43.0   \n",
       "4    Antioquia  Medellín         5     5001 2003-01-01  MASCULINO  28.0   \n",
       "\n",
       "  grupo_edad  n_homicidios  \n",
       "0    ADULTOS           1.0  \n",
       "1    ADULTOS           1.0  \n",
       "2    ADULTOS           2.0  \n",
       "3    ADULTOS           1.0  \n",
       "4    ADULTOS           1.0  "
      ]
     },
     "execution_count": 2,
     "metadata": {},
     "output_type": "execute_result"
    }
   ],
   "source": [
    "## Se carga la base original\n",
    "df = pd.read_stata(r'..\\data\\Homicidios_2003-Ag2017.dta')\n",
    "df['codmpio'] = df['codmpio'].astype('int')\n",
    "df.head()"
   ]
  },
  {
   "cell_type": "markdown",
   "metadata": {},
   "source": [
    "Adicional se procede a cargar la BD de Divipola que contiene la latitud y la longitud de los municipios"
   ]
  },
  {
   "cell_type": "code",
   "execution_count": 3,
   "metadata": {},
   "outputs": [
    {
     "data": {
      "text/html": [
       "<div>\n",
       "<style scoped>\n",
       "    .dataframe tbody tr th:only-of-type {\n",
       "        vertical-align: middle;\n",
       "    }\n",
       "\n",
       "    .dataframe tbody tr th {\n",
       "        vertical-align: top;\n",
       "    }\n",
       "\n",
       "    .dataframe thead th {\n",
       "        text-align: right;\n",
       "    }\n",
       "</style>\n",
       "<table border=\"1\" class=\"dataframe\">\n",
       "  <thead>\n",
       "    <tr style=\"text-align: right;\">\n",
       "      <th></th>\n",
       "      <th>codigo</th>\n",
       "      <th>Nombre</th>\n",
       "      <th>codmpio</th>\n",
       "      <th>Nombre</th>\n",
       "      <th>Tipo</th>\n",
       "      <th>lat</th>\n",
       "      <th>lon</th>\n",
       "    </tr>\n",
       "  </thead>\n",
       "  <tbody>\n",
       "    <tr>\n",
       "      <th>2</th>\n",
       "      <td>05</td>\n",
       "      <td>ANTIOQUIA</td>\n",
       "      <td>5001</td>\n",
       "      <td>MEDELLÍN</td>\n",
       "      <td>Municipio</td>\n",
       "      <td>6.25759</td>\n",
       "      <td>-75.611031</td>\n",
       "    </tr>\n",
       "    <tr>\n",
       "      <th>3</th>\n",
       "      <td>05</td>\n",
       "      <td>ANTIOQUIA</td>\n",
       "      <td>5002</td>\n",
       "      <td>ABEJORRAL</td>\n",
       "      <td>Municipio</td>\n",
       "      <td>5.803728</td>\n",
       "      <td>-75.438474</td>\n",
       "    </tr>\n",
       "    <tr>\n",
       "      <th>4</th>\n",
       "      <td>05</td>\n",
       "      <td>ANTIOQUIA</td>\n",
       "      <td>5004</td>\n",
       "      <td>ABRIAQUÍ</td>\n",
       "      <td>Municipio</td>\n",
       "      <td>6.627569</td>\n",
       "      <td>-76.085978</td>\n",
       "    </tr>\n",
       "    <tr>\n",
       "      <th>5</th>\n",
       "      <td>05</td>\n",
       "      <td>ANTIOQUIA</td>\n",
       "      <td>5021</td>\n",
       "      <td>ALEJANDRÍA</td>\n",
       "      <td>Municipio</td>\n",
       "      <td>6.365534</td>\n",
       "      <td>-75.090597</td>\n",
       "    </tr>\n",
       "    <tr>\n",
       "      <th>6</th>\n",
       "      <td>05</td>\n",
       "      <td>ANTIOQUIA</td>\n",
       "      <td>5030</td>\n",
       "      <td>AMAGÁ</td>\n",
       "      <td>Municipio</td>\n",
       "      <td>6.032922</td>\n",
       "      <td>-75.708003</td>\n",
       "    </tr>\n",
       "  </tbody>\n",
       "</table>\n",
       "</div>"
      ],
      "text/plain": [
       "  codigo     Nombre  codmpio      Nombre       Tipo       lat        lon\n",
       "2     05  ANTIOQUIA     5001    MEDELLÍN  Municipio   6.25759 -75.611031\n",
       "3     05  ANTIOQUIA     5002   ABEJORRAL  Municipio  5.803728 -75.438474\n",
       "4     05  ANTIOQUIA     5004    ABRIAQUÍ  Municipio  6.627569 -76.085978\n",
       "5     05  ANTIOQUIA     5021  ALEJANDRÍA  Municipio  6.365534 -75.090597\n",
       "6     05  ANTIOQUIA     5030       AMAGÁ  Municipio  6.032922 -75.708003"
      ]
     },
     "execution_count": 3,
     "metadata": {},
     "output_type": "execute_result"
    }
   ],
   "source": [
    "df_divipola = pd.read_excel(r'..\\data\\DIVIPOLA_Municipios.xlsx',skiprows=range(1, 10), header=None)\n",
    "df_divipola.columns = df_divipola.iloc[1]\n",
    "df_divipola = df_divipola[2:]\n",
    "columnas = ['codigo', 'Nombre', 'codmpio', 'Nombre', 'Tipo', 'lat', 'lon']\n",
    "df_divipola.columns = columnas\n",
    "df_divipola = df_divipola.iloc[:-10]\n",
    "df_divipola['codmpio'] = df_divipola['codmpio'].astype('int')\n",
    "df_divipola.head()"
   ]
  },
  {
   "cell_type": "code",
   "execution_count": 4,
   "metadata": {},
   "outputs": [
    {
     "data": {
      "text/html": [
       "<div>\n",
       "<style scoped>\n",
       "    .dataframe tbody tr th:only-of-type {\n",
       "        vertical-align: middle;\n",
       "    }\n",
       "\n",
       "    .dataframe tbody tr th {\n",
       "        vertical-align: top;\n",
       "    }\n",
       "\n",
       "    .dataframe thead th {\n",
       "        text-align: right;\n",
       "    }\n",
       "</style>\n",
       "<table border=\"1\" class=\"dataframe\">\n",
       "  <thead>\n",
       "    <tr style=\"text-align: right;\">\n",
       "      <th></th>\n",
       "      <th>Departamento</th>\n",
       "      <th>Municipio</th>\n",
       "      <th>coddepto</th>\n",
       "      <th>codmpio</th>\n",
       "      <th>fecha</th>\n",
       "      <th>genero</th>\n",
       "      <th>edad</th>\n",
       "      <th>grupo_edad</th>\n",
       "      <th>n_homicidios</th>\n",
       "      <th>lat</th>\n",
       "      <th>lon</th>\n",
       "    </tr>\n",
       "  </thead>\n",
       "  <tbody>\n",
       "    <tr>\n",
       "      <th>0</th>\n",
       "      <td>Antioquia</td>\n",
       "      <td>Medellín</td>\n",
       "      <td>5</td>\n",
       "      <td>5001</td>\n",
       "      <td>2003-01-01</td>\n",
       "      <td>MASCULINO</td>\n",
       "      <td>27.0</td>\n",
       "      <td>ADULTOS</td>\n",
       "      <td>1.0</td>\n",
       "      <td>6.25759</td>\n",
       "      <td>-75.611031</td>\n",
       "    </tr>\n",
       "    <tr>\n",
       "      <th>1</th>\n",
       "      <td>Antioquia</td>\n",
       "      <td>Medellín</td>\n",
       "      <td>5</td>\n",
       "      <td>5001</td>\n",
       "      <td>2003-01-01</td>\n",
       "      <td>FEMENINO</td>\n",
       "      <td>19.0</td>\n",
       "      <td>ADULTOS</td>\n",
       "      <td>1.0</td>\n",
       "      <td>6.25759</td>\n",
       "      <td>-75.611031</td>\n",
       "    </tr>\n",
       "    <tr>\n",
       "      <th>2</th>\n",
       "      <td>Antioquia</td>\n",
       "      <td>Medellín</td>\n",
       "      <td>5</td>\n",
       "      <td>5001</td>\n",
       "      <td>2003-01-01</td>\n",
       "      <td>MASCULINO</td>\n",
       "      <td>18.0</td>\n",
       "      <td>ADULTOS</td>\n",
       "      <td>2.0</td>\n",
       "      <td>6.25759</td>\n",
       "      <td>-75.611031</td>\n",
       "    </tr>\n",
       "    <tr>\n",
       "      <th>3</th>\n",
       "      <td>Antioquia</td>\n",
       "      <td>Medellín</td>\n",
       "      <td>5</td>\n",
       "      <td>5001</td>\n",
       "      <td>2003-01-01</td>\n",
       "      <td>MASCULINO</td>\n",
       "      <td>43.0</td>\n",
       "      <td>ADULTOS</td>\n",
       "      <td>1.0</td>\n",
       "      <td>6.25759</td>\n",
       "      <td>-75.611031</td>\n",
       "    </tr>\n",
       "    <tr>\n",
       "      <th>4</th>\n",
       "      <td>Antioquia</td>\n",
       "      <td>Medellín</td>\n",
       "      <td>5</td>\n",
       "      <td>5001</td>\n",
       "      <td>2003-01-01</td>\n",
       "      <td>MASCULINO</td>\n",
       "      <td>28.0</td>\n",
       "      <td>ADULTOS</td>\n",
       "      <td>1.0</td>\n",
       "      <td>6.25759</td>\n",
       "      <td>-75.611031</td>\n",
       "    </tr>\n",
       "  </tbody>\n",
       "</table>\n",
       "</div>"
      ],
      "text/plain": [
       "  Departamento Municipio  coddepto  codmpio      fecha     genero  edad  \\\n",
       "0    Antioquia  Medellín         5     5001 2003-01-01  MASCULINO  27.0   \n",
       "1    Antioquia  Medellín         5     5001 2003-01-01   FEMENINO  19.0   \n",
       "2    Antioquia  Medellín         5     5001 2003-01-01  MASCULINO  18.0   \n",
       "3    Antioquia  Medellín         5     5001 2003-01-01  MASCULINO  43.0   \n",
       "4    Antioquia  Medellín         5     5001 2003-01-01  MASCULINO  28.0   \n",
       "\n",
       "  grupo_edad  n_homicidios      lat        lon  \n",
       "0    ADULTOS           1.0  6.25759 -75.611031  \n",
       "1    ADULTOS           1.0  6.25759 -75.611031  \n",
       "2    ADULTOS           2.0  6.25759 -75.611031  \n",
       "3    ADULTOS           1.0  6.25759 -75.611031  \n",
       "4    ADULTOS           1.0  6.25759 -75.611031  "
      ]
     },
     "execution_count": 4,
     "metadata": {},
     "output_type": "execute_result"
    }
   ],
   "source": [
    "df = df.merge(df_divipola[['codmpio', 'lat', 'lon']], on='codmpio', how='left')\n",
    "df.head()"
   ]
  },
  {
   "cell_type": "code",
   "execution_count": 5,
   "metadata": {},
   "outputs": [
    {
     "name": "stdout",
     "output_type": "stream",
     "text": [
      "False    221538\n",
      "Name: lat, dtype: int64\n",
      "False    221538\n",
      "Name: lon, dtype: int64\n"
     ]
    }
   ],
   "source": [
    "print(df['lat'].isna().value_counts())\n",
    "print(df['lon'].isna().value_counts())"
   ]
  },
  {
   "cell_type": "code",
   "execution_count": 6,
   "metadata": {},
   "outputs": [
    {
     "data": {
      "text/html": [
       "<div>\n",
       "<style scoped>\n",
       "    .dataframe tbody tr th:only-of-type {\n",
       "        vertical-align: middle;\n",
       "    }\n",
       "\n",
       "    .dataframe tbody tr th {\n",
       "        vertical-align: top;\n",
       "    }\n",
       "\n",
       "    .dataframe thead th {\n",
       "        text-align: right;\n",
       "    }\n",
       "</style>\n",
       "<table border=\"1\" class=\"dataframe\">\n",
       "  <thead>\n",
       "    <tr style=\"text-align: right;\">\n",
       "      <th></th>\n",
       "      <th>coddepto</th>\n",
       "      <th>codmpio</th>\n",
       "      <th>edad</th>\n",
       "      <th>n_homicidios</th>\n",
       "    </tr>\n",
       "  </thead>\n",
       "  <tbody>\n",
       "    <tr>\n",
       "      <th>count</th>\n",
       "      <td>221538.000000</td>\n",
       "      <td>221538.000000</td>\n",
       "      <td>219344.00000</td>\n",
       "      <td>221538.000000</td>\n",
       "    </tr>\n",
       "    <tr>\n",
       "      <th>mean</th>\n",
       "      <td>40.573378</td>\n",
       "      <td>40821.849430</td>\n",
       "      <td>32.23739</td>\n",
       "      <td>1.027232</td>\n",
       "    </tr>\n",
       "    <tr>\n",
       "      <th>std</th>\n",
       "      <td>29.050849</td>\n",
       "      <td>29066.391727</td>\n",
       "      <td>12.57412</td>\n",
       "      <td>0.208083</td>\n",
       "    </tr>\n",
       "    <tr>\n",
       "      <th>min</th>\n",
       "      <td>5.000000</td>\n",
       "      <td>5001.000000</td>\n",
       "      <td>0.00000</td>\n",
       "      <td>1.000000</td>\n",
       "    </tr>\n",
       "    <tr>\n",
       "      <th>25%</th>\n",
       "      <td>11.000000</td>\n",
       "      <td>11001.000000</td>\n",
       "      <td>23.00000</td>\n",
       "      <td>1.000000</td>\n",
       "    </tr>\n",
       "    <tr>\n",
       "      <th>50%</th>\n",
       "      <td>44.000000</td>\n",
       "      <td>44001.000000</td>\n",
       "      <td>30.00000</td>\n",
       "      <td>1.000000</td>\n",
       "    </tr>\n",
       "    <tr>\n",
       "      <th>75%</th>\n",
       "      <td>73.000000</td>\n",
       "      <td>73410.250000</td>\n",
       "      <td>39.00000</td>\n",
       "      <td>1.000000</td>\n",
       "    </tr>\n",
       "    <tr>\n",
       "      <th>max</th>\n",
       "      <td>99.000000</td>\n",
       "      <td>99773.000000</td>\n",
       "      <td>99.00000</td>\n",
       "      <td>25.000000</td>\n",
       "    </tr>\n",
       "  </tbody>\n",
       "</table>\n",
       "</div>"
      ],
      "text/plain": [
       "            coddepto        codmpio          edad   n_homicidios\n",
       "count  221538.000000  221538.000000  219344.00000  221538.000000\n",
       "mean       40.573378   40821.849430      32.23739       1.027232\n",
       "std        29.050849   29066.391727      12.57412       0.208083\n",
       "min         5.000000    5001.000000       0.00000       1.000000\n",
       "25%        11.000000   11001.000000      23.00000       1.000000\n",
       "50%        44.000000   44001.000000      30.00000       1.000000\n",
       "75%        73.000000   73410.250000      39.00000       1.000000\n",
       "max        99.000000   99773.000000      99.00000      25.000000"
      ]
     },
     "execution_count": 6,
     "metadata": {},
     "output_type": "execute_result"
    }
   ],
   "source": [
    "## Se ven las caracteristicas generales de las variables númericas\n",
    "df.describe()"
   ]
  },
  {
   "cell_type": "code",
   "execution_count": 7,
   "metadata": {},
   "outputs": [
    {
     "data": {
      "text/plain": [
       "(221538, 11)"
      ]
     },
     "execution_count": 7,
     "metadata": {},
     "output_type": "execute_result"
    }
   ],
   "source": [
    "# Tamaño de la base\n",
    "df.shape"
   ]
  },
  {
   "cell_type": "markdown",
   "metadata": {},
   "source": [
    "Como se puede ver a primera vista se cuenta con una base de datos bastante completa con nueve variables y 221.538 filas. Sin embargo, la base de datos contiene informacón más alla de los adolescentes y menores de edad como se puede observar a continuación por lo cual es necesario depurarla."
   ]
  },
  {
   "cell_type": "code",
   "execution_count": 8,
   "metadata": {},
   "outputs": [
    {
     "data": {
      "text/plain": [
       "ADULTOS         207757\n",
       "ADOLESCENTES     11993\n",
       "MENORES           1788\n",
       "Name: grupo_edad, dtype: int64"
      ]
     },
     "execution_count": 8,
     "metadata": {},
     "output_type": "execute_result"
    }
   ],
   "source": [
    "conteo_valores_grupo_edad = df['grupo_edad'].value_counts()\n",
    "conteo_valores_grupo_edad"
   ]
  },
  {
   "cell_type": "code",
   "execution_count": 9,
   "metadata": {},
   "outputs": [],
   "source": [
    "df_vulnerable = df[(df['grupo_edad'] == 'ADOLESCENTES') | (df['grupo_edad'] == 'MENORES')]"
   ]
  },
  {
   "cell_type": "markdown",
   "metadata": {},
   "source": [
    "Se crea por lo tanto un nuevo df_vulnerable que contiene únicamente la población de interés. Hecho ya esta depuración se procede a revisar las caracteristicas que se tienen:"
   ]
  },
  {
   "cell_type": "code",
   "execution_count": 10,
   "metadata": {},
   "outputs": [
    {
     "data": {
      "text/html": [
       "<div>\n",
       "<style scoped>\n",
       "    .dataframe tbody tr th:only-of-type {\n",
       "        vertical-align: middle;\n",
       "    }\n",
       "\n",
       "    .dataframe tbody tr th {\n",
       "        vertical-align: top;\n",
       "    }\n",
       "\n",
       "    .dataframe thead th {\n",
       "        text-align: right;\n",
       "    }\n",
       "</style>\n",
       "<table border=\"1\" class=\"dataframe\">\n",
       "  <thead>\n",
       "    <tr style=\"text-align: right;\">\n",
       "      <th></th>\n",
       "      <th>coddepto</th>\n",
       "      <th>codmpio</th>\n",
       "      <th>edad</th>\n",
       "      <th>n_homicidios</th>\n",
       "    </tr>\n",
       "  </thead>\n",
       "  <tbody>\n",
       "    <tr>\n",
       "      <th>count</th>\n",
       "      <td>13781.000000</td>\n",
       "      <td>13781.000000</td>\n",
       "      <td>13781.000000</td>\n",
       "      <td>13781.000000</td>\n",
       "    </tr>\n",
       "    <tr>\n",
       "      <th>mean</th>\n",
       "      <td>42.205138</td>\n",
       "      <td>42421.057833</td>\n",
       "      <td>14.771062</td>\n",
       "      <td>1.025615</td>\n",
       "    </tr>\n",
       "    <tr>\n",
       "      <th>std</th>\n",
       "      <td>29.855901</td>\n",
       "      <td>29856.101980</td>\n",
       "      <td>3.669558</td>\n",
       "      <td>0.165604</td>\n",
       "    </tr>\n",
       "    <tr>\n",
       "      <th>min</th>\n",
       "      <td>5.000000</td>\n",
       "      <td>5001.000000</td>\n",
       "      <td>0.000000</td>\n",
       "      <td>1.000000</td>\n",
       "    </tr>\n",
       "    <tr>\n",
       "      <th>25%</th>\n",
       "      <td>11.000000</td>\n",
       "      <td>11001.000000</td>\n",
       "      <td>15.000000</td>\n",
       "      <td>1.000000</td>\n",
       "    </tr>\n",
       "    <tr>\n",
       "      <th>50%</th>\n",
       "      <td>47.000000</td>\n",
       "      <td>47001.000000</td>\n",
       "      <td>16.000000</td>\n",
       "      <td>1.000000</td>\n",
       "    </tr>\n",
       "    <tr>\n",
       "      <th>75%</th>\n",
       "      <td>76.000000</td>\n",
       "      <td>76001.000000</td>\n",
       "      <td>17.000000</td>\n",
       "      <td>1.000000</td>\n",
       "    </tr>\n",
       "    <tr>\n",
       "      <th>max</th>\n",
       "      <td>99.000000</td>\n",
       "      <td>99773.000000</td>\n",
       "      <td>17.000000</td>\n",
       "      <td>3.000000</td>\n",
       "    </tr>\n",
       "  </tbody>\n",
       "</table>\n",
       "</div>"
      ],
      "text/plain": [
       "           coddepto       codmpio          edad  n_homicidios\n",
       "count  13781.000000  13781.000000  13781.000000  13781.000000\n",
       "mean      42.205138  42421.057833     14.771062      1.025615\n",
       "std       29.855901  29856.101980      3.669558      0.165604\n",
       "min        5.000000   5001.000000      0.000000      1.000000\n",
       "25%       11.000000  11001.000000     15.000000      1.000000\n",
       "50%       47.000000  47001.000000     16.000000      1.000000\n",
       "75%       76.000000  76001.000000     17.000000      1.000000\n",
       "max       99.000000  99773.000000     17.000000      3.000000"
      ]
     },
     "execution_count": 10,
     "metadata": {},
     "output_type": "execute_result"
    }
   ],
   "source": [
    "## Se ven las caracteristicas generales de las variables númericas\n",
    "df_vulnerable.describe()"
   ]
  },
  {
   "cell_type": "code",
   "execution_count": 11,
   "metadata": {},
   "outputs": [
    {
     "name": "stdout",
     "output_type": "stream",
     "text": [
      "Departamento    0\n",
      "Municipio       0\n",
      "coddepto        0\n",
      "codmpio         0\n",
      "fecha           0\n",
      "genero          0\n",
      "edad            0\n",
      "grupo_edad      0\n",
      "n_homicidios    0\n",
      "lat             0\n",
      "lon             0\n",
      "dtype: int64\n"
     ]
    }
   ],
   "source": [
    "## Se verifica si existen valores nulos\n",
    "valores_nulos = df_vulnerable.isna().sum()\n",
    "print(valores_nulos)"
   ]
  },
  {
   "cell_type": "markdown",
   "metadata": {},
   "source": [
    "Se puede observar que en esta nueva base de datos se tiene un promedio de edad de 14.77 (comparado con la original en la que el promedio era 32.23)"
   ]
  },
  {
   "cell_type": "code",
   "execution_count": 12,
   "metadata": {},
   "outputs": [
    {
     "name": "stdout",
     "output_type": "stream",
     "text": [
      "MASCULINO     11586\n",
      "FEMENINO       2191\n",
      "NO REPORTA        4\n",
      "Name: genero, dtype: int64\n"
     ]
    }
   ],
   "source": [
    "genero = df_vulnerable['genero'].value_counts()\n",
    "print(genero)"
   ]
  },
  {
   "cell_type": "code",
   "execution_count": 13,
   "metadata": {},
   "outputs": [
    {
     "name": "stdout",
     "output_type": "stream",
     "text": [
      "Cali            2397\n",
      "Bogotá, D.C.    1254\n",
      "Medellín        1012\n",
      "Barranquilla     254\n",
      "Palmira          236\n",
      "                ... \n",
      "Pijao              1\n",
      "Tutazá             1\n",
      "Salento            1\n",
      "Tuta               1\n",
      "Sesquilé           1\n",
      "Name: Municipio, Length: 775, dtype: int64\n"
     ]
    }
   ],
   "source": [
    "municipio = df_vulnerable['Municipio'].value_counts()\n",
    "print(municipio)"
   ]
  },
  {
   "cell_type": "code",
   "execution_count": 14,
   "metadata": {},
   "outputs": [
    {
     "name": "stdout",
     "output_type": "stream",
     "text": [
      "Valle del Cauca               3661\n",
      "Antioquia                     2305\n",
      "Bogotá, D.C.                  1254\n",
      "Cauca                          520\n",
      "Nariño                         493\n",
      "Santander                      460\n",
      "Risaralda                      451\n",
      "Cundinamarca                   409\n",
      "Caldas                         390\n",
      "Atlántico                      385\n",
      "Norte de Santander             371\n",
      "Huila                          313\n",
      "Bolívar                        312\n",
      "Tolima                         284\n",
      "Meta                           274\n",
      "Quindio                        246\n",
      "Cesar                          195\n",
      "Magdalena                      185\n",
      "Caquetá                        170\n",
      "Chocó                          168\n",
      "Córdoba                        166\n",
      "Putumayo                       152\n",
      "La Guajira                     144\n",
      "Arauca                         144\n",
      "Boyacá                         112\n",
      "Sucre                           76\n",
      "Casanare                        67\n",
      "Guaviare                        33\n",
      "Archipiélago de San Andrés      12\n",
      "Amazonas                        11\n",
      "Vichada                         11\n",
      "Guainía                          4\n",
      "Vaupés                           3\n",
      "Name: Departamento, dtype: int64\n"
     ]
    }
   ],
   "source": [
    "departamento = df_vulnerable['Departamento'].value_counts()\n",
    "print(departamento)"
   ]
  },
  {
   "cell_type": "markdown",
   "metadata": {},
   "source": [
    "Realizando una revisión rápida se puede observar que el número de homicidios parece variar mucho dependiendo de donde este ocurriendo y del genero afectado."
   ]
  },
  {
   "cell_type": "code",
   "execution_count": 15,
   "metadata": {},
   "outputs": [
    {
     "data": {
      "image/png": "[encoded data removed]",
      "text/plain": [
       "<Figure size 864x432 with 1 Axes>"
      ]
     },
     "metadata": {
      "needs_background": "light"
     },
     "output_type": "display_data"
    },
    {
     "data": {
      "image/png": "[encoded data removed]",
      "text/plain": [
       "<Figure size 864x432 with 1 Axes>"
      ]
     },
     "metadata": {
      "needs_background": "light"
     },
     "output_type": "display_data"
    }
   ],
   "source": [
    "## Se grafica para apreciar más la diferencia\n",
    "\n",
    "# Se filtran los diez municipios y departamentos principales\n",
    "top_municipios = df_vulnerable['Municipio'].value_counts().head(10).index.tolist()\n",
    "top_departamentos = df_vulnerable['Departamento'].value_counts().head(10).index.tolist()\n",
    "top_df_m = df_vulnerable[df_vulnerable['Municipio'].isin(top_municipios)]\n",
    "top_df_d = df_vulnerable[df_vulnerable['Departamento'].isin(top_departamentos)]\n",
    "\n",
    "# Se proceden a crear dos gráficos\n",
    "total_homicidios_municipio = top_df_m.groupby('Municipio')['n_homicidios'].sum().reset_index()\n",
    "\n",
    "plt.figure(figsize=(12, 6))\n",
    "sns.barplot(x='n_homicidios', y='Municipio', data=total_homicidios_municipio, color='blue')\n",
    "plt.title('Total de Homicidios por Municipio (Top 10)')\n",
    "plt.xlabel('Número de Homicidios')\n",
    "plt.ylabel('Municipio')\n",
    "plt.show()\n",
    "\n",
    "total_homicidios_departamento = top_df_d.groupby('Departamento')['n_homicidios'].sum().reset_index()\n",
    "\n",
    "plt.figure(figsize=(12, 6))\n",
    "sns.barplot(x='n_homicidios', y='Departamento', data=total_homicidios_departamento, color='green')\n",
    "plt.title('Total de Homicidios por Departamento (Top 10)')\n",
    "plt.xlabel('Número de Homicidios')\n",
    "plt.ylabel('Departamento')\n",
    "plt.show()"
   ]
  },
  {
   "cell_type": "markdown",
   "metadata": {},
   "source": [
    "Como se puede observar con estos resultados historicamente el Valle del Cauca y Cali parecen ser los el departamento y municipio respectivamente donde más se han presentado homcidios "
   ]
  },
  {
   "cell_type": "markdown",
   "metadata": {},
   "source": [
    "### Distribución Espacial de los Homicidios\n",
    "\n",
    "Con el objetivo de identificar el comportamiento de los homicidos de Colombia se decidio verificar el efecto que la violencia generada por el narcotrafico puede estar teniendo como hecho generador. Con el objetivo de verificar que tan real es esta conclusión se eleigio basado con la Historia de Colombia un punto central que en teoria deberia tener una mayor Densidad de homicidios como consecuencia a su cercanía con hechos relacionados con el narcotrafico. Este punto central fue la ciudad de Santiago de Cali (3.399043723, -76.576492589)"
   ]
  },
  {
   "cell_type": "code",
   "execution_count": 16,
   "metadata": {},
   "outputs": [
    {
     "name": "stderr",
     "output_type": "stream",
     "text": [
      "c:\\Users\\Felipe\\anaconda3\\envs\\Financiero\\lib\\site-packages\\geopandas\\_compat.py:152: UserWarning: The Shapely GEOS version (3.10.3-CAPI-1.16.1) is incompatible with the GEOS version PyGEOS was compiled with (3.10.4-CAPI-1.16.2). Conversions between both will be slow.\n",
      "  set_use_pygeos()\n",
      "C:\\Users\\Felipe\\AppData\\Local\\Temp\\ipykernel_9128\\87825908.py:7: DeprecationWarning: GeoPandas is set to use PyGEOS over Shapely. PyGEOS support is deprecatedand will be removed in GeoPandas 1.0, released in the Q1 of 2024. Please migrate to Shapely 2.0 (https://geopandas.org/en/stable/docs/user_guide/pygeos_to_shapely.html).\n",
      "  import geopandas as gpd\n",
      "c:\\Users\\Felipe\\anaconda3\\envs\\Financiero\\lib\\site-packages\\requests\\__init__.py:109: RequestsDependencyWarning: urllib3 (1.26.9) or chardet (5.2.0)/charset_normalizer (2.0.4) doesn't match a supported version!\n",
      "  warnings.warn(\n"
     ]
    },
    {
     "data": {
      "text/html": [
       "<div>\n",
       "<style scoped>\n",
       "    .dataframe tbody tr th:only-of-type {\n",
       "        vertical-align: middle;\n",
       "    }\n",
       "\n",
       "    .dataframe tbody tr th {\n",
       "        vertical-align: top;\n",
       "    }\n",
       "\n",
       "    .dataframe thead th {\n",
       "        text-align: right;\n",
       "    }\n",
       "</style>\n",
       "<table border=\"1\" class=\"dataframe\">\n",
       "  <thead>\n",
       "    <tr style=\"text-align: right;\">\n",
       "      <th></th>\n",
       "      <th>lugar</th>\n",
       "      <th>Lat</th>\n",
       "      <th>Lon</th>\n",
       "    </tr>\n",
       "  </thead>\n",
       "  <tbody>\n",
       "    <tr>\n",
       "      <th>0</th>\n",
       "      <td>Hotspot</td>\n",
       "      <td>3.399044</td>\n",
       "      <td>-76.576493</td>\n",
       "    </tr>\n",
       "  </tbody>\n",
       "</table>\n",
       "</div>"
      ],
      "text/plain": [
       "     lugar       Lat        Lon\n",
       "0  Hotspot  3.399044 -76.576493"
      ]
     },
     "execution_count": 16,
     "metadata": {},
     "output_type": "execute_result"
    }
   ],
   "source": [
    "## En el siguiente Código se desarrolla el análisis de Densidad\n",
    "\n",
    "## Se cargan las librerías necesarias\n",
    "from sklearn.model_selection import GridSearchCV\n",
    "from sklearn.neighbors import KernelDensity\n",
    "import pandas as pd\n",
    "import geopandas as gpd\n",
    "from shapely.ops import nearest_points\n",
    "import folium\n",
    "import numpy as np\n",
    "\n",
    "\n",
    "## Se define la Ciudad Hotspot\n",
    "\n",
    "HS = pd.DataFrame({\n",
    "    \"lugar\": [\"Hotspot\"],\n",
    "    \"Lat\": [3.399043723],\n",
    "    \"Lon\": [-76.576492589]\n",
    "    })\n",
    "HS"
   ]
  },
  {
   "cell_type": "code",
   "execution_count": 17,
   "metadata": {},
   "outputs": [
    {
     "data": {
      "text/html": [
       "<div style=\"width:100%;\"><div style=\"position:relative;width:100%;height:0;padding-bottom:60%;\"><span style=\"color:#565656\">Make this Notebook Trusted to load map: File -> Trust Notebook</span><iframe srcdoc=\"&lt;!DOCTYPE html&gt;\n",
       "&lt;html&gt;\n",
       "&lt;head&gt;\n",
       "    \n",
       "    &lt;meta http-equiv=&quot;content-type&quot; content=&quot;text/html; charset=UTF-8&quot; /&gt;\n",
       "    \n",
       "        &lt;script&gt;\n",
       "            L_NO_TOUCH = false;\n",
       "            L_DISABLE_3D = false;\n",
       "        &lt;/script&gt;\n",
       "    \n",
       "    &lt;style&gt;html, body {width: 100%;height: 100%;margin: 0;padding: 0;}&lt;/style&gt;\n",
       "    &lt;style&gt;#map {position:absolute;top:0;bottom:0;right:0;left:0;}&lt;/style&gt;\n",
       "    &lt;script src=&quot;https://cdn.jsdelivr.net/npm/leaflet@1.9.3/dist/leaflet.js&quot;&gt;&lt;/script&gt;\n",
       "    &lt;script src=&quot;https://code.jquery.com/jquery-1.12.4.min.js&quot;&gt;&lt;/script&gt;\n",
       "    &lt;script src=&quot;https://cdn.jsdelivr.net/npm/bootstrap@5.2.2/dist/js/bootstrap.bundle.min.js&quot;&gt;&lt;/script&gt;\n",
       "    &lt;script src=&quot;https://cdnjs.cloudflare.com/ajax/libs/Leaflet.awesome-markers/2.0.2/leaflet.awesome-markers.js&quot;&gt;&lt;/script&gt;\n",
       "    &lt;link rel=&quot;stylesheet&quot; href=&quot;https://cdn.jsdelivr.net/npm/leaflet@1.9.3/dist/leaflet.css&quot;/&gt;\n",
       "    &lt;link rel=&quot;stylesheet&quot; href=&quot;https://cdn.jsdelivr.net/npm/bootstrap@5.2.2/dist/css/bootstrap.min.css&quot;/&gt;\n",
       "    &lt;link rel=&quot;stylesheet&quot; href=&quot;https://netdna.bootstrapcdn.com/bootstrap/3.0.0/css/bootstrap.min.css&quot;/&gt;\n",
       "    &lt;link rel=&quot;stylesheet&quot; href=&quot;https://cdn.jsdelivr.net/npm/@fortawesome/fontawesome-free@6.2.0/css/all.min.css&quot;/&gt;\n",
       "    &lt;link rel=&quot;stylesheet&quot; href=&quot;https://cdnjs.cloudflare.com/ajax/libs/Leaflet.awesome-markers/2.0.2/leaflet.awesome-markers.css&quot;/&gt;\n",
       "    &lt;link rel=&quot;stylesheet&quot; href=&quot;https://cdn.jsdelivr.net/gh/python-visualization/folium/folium/templates/leaflet.awesome.rotate.min.css&quot;/&gt;\n",
       "    \n",
       "            &lt;meta name=&quot;viewport&quot; content=&quot;width=device-width,\n",
       "                initial-scale=1.0, maximum-scale=1.0, user-scalable=no&quot; /&gt;\n",
       "            &lt;style&gt;\n",
       "                #map_79b7ae241178c7bbd6855dd818f7b7c0 {\n",
       "                    position: relative;\n",
       "                    width: 100.0%;\n",
       "                    height: 100.0%;\n",
       "                    left: 0.0%;\n",
       "                    top: 0.0%;\n",
       "                }\n",
       "                .leaflet-container { font-size: 1rem; }\n",
       "            &lt;/style&gt;\n",
       "        \n",
       "&lt;/head&gt;\n",
       "&lt;body&gt;\n",
       "    \n",
       "    \n",
       "            &lt;div class=&quot;folium-map&quot; id=&quot;map_79b7ae241178c7bbd6855dd818f7b7c0&quot; &gt;&lt;/div&gt;\n",
       "        \n",
       "&lt;/body&gt;\n",
       "&lt;script&gt;\n",
       "    \n",
       "    \n",
       "            var map_79b7ae241178c7bbd6855dd818f7b7c0 = L.map(\n",
       "                &quot;map_79b7ae241178c7bbd6855dd818f7b7c0&quot;,\n",
       "                {\n",
       "                    center: [5.431255098414888, -75.22697281224852],\n",
       "                    crs: L.CRS.EPSG3857,\n",
       "                    zoom: 10,\n",
       "                    zoomControl: true,\n",
       "                    preferCanvas: false,\n",
       "                }\n",
       "            );\n",
       "\n",
       "            \n",
       "\n",
       "        \n",
       "    \n",
       "            var tile_layer_87b948f2ef87097e5415fca6dd3a0594 = L.tileLayer(\n",
       "                &quot;https://{s}.tile.openstreetmap.org/{z}/{x}/{y}.png&quot;,\n",
       "                {&quot;attribution&quot;: &quot;Data by \\u0026copy; \\u003ca target=\\&quot;_blank\\&quot; href=\\&quot;http://openstreetmap.org\\&quot;\\u003eOpenStreetMap\\u003c/a\\u003e, under \\u003ca target=\\&quot;_blank\\&quot; href=\\&quot;http://www.openstreetmap.org/copyright\\&quot;\\u003eODbL\\u003c/a\\u003e.&quot;, &quot;detectRetina&quot;: false, &quot;maxNativeZoom&quot;: 18, &quot;maxZoom&quot;: 18, &quot;minZoom&quot;: 0, &quot;noWrap&quot;: false, &quot;opacity&quot;: 1, &quot;subdomains&quot;: &quot;abc&quot;, &quot;tms&quot;: false}\n",
       "            ).addTo(map_79b7ae241178c7bbd6855dd818f7b7c0);\n",
       "        \n",
       "    \n",
       "            var marker_ef8ea93db47e551f4f15f661207aaac1 = L.marker(\n",
       "                [3.399043723, -76.576492589],\n",
       "                {}\n",
       "            ).addTo(map_79b7ae241178c7bbd6855dd818f7b7c0);\n",
       "        \n",
       "&lt;/script&gt;\n",
       "&lt;/html&gt;\" style=\"position:absolute;width:100%;height:100%;left:0;top:0;border:none !important;\" allowfullscreen webkitallowfullscreen mozallowfullscreen></iframe></div></div>"
      ],
      "text/plain": [
       "<folium.folium.Map at 0x19b028c3f70>"
      ]
     },
     "execution_count": 17,
     "metadata": {},
     "output_type": "execute_result"
    }
   ],
   "source": [
    "## Se muestra la ubicación del hotspot\n",
    "\n",
    "## Se definen las caracteristicas del mapa\n",
    "\n",
    "import folium\n",
    "\n",
    "map = folium.Map(location = [df['lat'].mean(),df['lon'].mean()], tiles = \"OpenStreetMap\", zoom_start = 10)\n",
    "\n",
    "## Se muestra el centro\n",
    "\n",
    "folium.Marker(\n",
    "      location=[HS.iloc[0]['Lat'], HS.iloc[0]['Lon']]\n",
    ").add_to(map)\n",
    "map"
   ]
  },
  {
   "cell_type": "code",
   "execution_count": 18,
   "metadata": {},
   "outputs": [
    {
     "data": {
      "text/html": [
       "<div>\n",
       "<style scoped>\n",
       "    .dataframe tbody tr th:only-of-type {\n",
       "        vertical-align: middle;\n",
       "    }\n",
       "\n",
       "    .dataframe tbody tr th {\n",
       "        vertical-align: top;\n",
       "    }\n",
       "\n",
       "    .dataframe thead th {\n",
       "        text-align: right;\n",
       "    }\n",
       "</style>\n",
       "<table border=\"1\" class=\"dataframe\">\n",
       "  <thead>\n",
       "    <tr style=\"text-align: right;\">\n",
       "      <th></th>\n",
       "      <th>Departamento</th>\n",
       "      <th>Municipio</th>\n",
       "      <th>coddepto</th>\n",
       "      <th>codmpio</th>\n",
       "      <th>fecha</th>\n",
       "      <th>genero</th>\n",
       "      <th>edad</th>\n",
       "      <th>grupo_edad</th>\n",
       "      <th>n_homicidios</th>\n",
       "      <th>lat</th>\n",
       "      <th>lon</th>\n",
       "      <th>geometry</th>\n",
       "      <th>coordenadas</th>\n",
       "    </tr>\n",
       "  </thead>\n",
       "  <tbody>\n",
       "    <tr>\n",
       "      <th>0</th>\n",
       "      <td>Antioquia</td>\n",
       "      <td>Medellín</td>\n",
       "      <td>5</td>\n",
       "      <td>5001</td>\n",
       "      <td>2003-01-01</td>\n",
       "      <td>MASCULINO</td>\n",
       "      <td>27.0</td>\n",
       "      <td>ADULTOS</td>\n",
       "      <td>1.0</td>\n",
       "      <td>6.25759</td>\n",
       "      <td>-75.611031</td>\n",
       "      <td>POINT (-75.61103 6.25759)</td>\n",
       "      <td>(-75.611031065, 6.257590259)</td>\n",
       "    </tr>\n",
       "    <tr>\n",
       "      <th>1</th>\n",
       "      <td>Antioquia</td>\n",
       "      <td>Medellín</td>\n",
       "      <td>5</td>\n",
       "      <td>5001</td>\n",
       "      <td>2003-01-01</td>\n",
       "      <td>FEMENINO</td>\n",
       "      <td>19.0</td>\n",
       "      <td>ADULTOS</td>\n",
       "      <td>1.0</td>\n",
       "      <td>6.25759</td>\n",
       "      <td>-75.611031</td>\n",
       "      <td>POINT (-75.61103 6.25759)</td>\n",
       "      <td>(-75.611031065, 6.257590259)</td>\n",
       "    </tr>\n",
       "    <tr>\n",
       "      <th>2</th>\n",
       "      <td>Antioquia</td>\n",
       "      <td>Medellín</td>\n",
       "      <td>5</td>\n",
       "      <td>5001</td>\n",
       "      <td>2003-01-01</td>\n",
       "      <td>MASCULINO</td>\n",
       "      <td>18.0</td>\n",
       "      <td>ADULTOS</td>\n",
       "      <td>2.0</td>\n",
       "      <td>6.25759</td>\n",
       "      <td>-75.611031</td>\n",
       "      <td>POINT (-75.61103 6.25759)</td>\n",
       "      <td>(-75.611031065, 6.257590259)</td>\n",
       "    </tr>\n",
       "    <tr>\n",
       "      <th>3</th>\n",
       "      <td>Antioquia</td>\n",
       "      <td>Medellín</td>\n",
       "      <td>5</td>\n",
       "      <td>5001</td>\n",
       "      <td>2003-01-01</td>\n",
       "      <td>MASCULINO</td>\n",
       "      <td>43.0</td>\n",
       "      <td>ADULTOS</td>\n",
       "      <td>1.0</td>\n",
       "      <td>6.25759</td>\n",
       "      <td>-75.611031</td>\n",
       "      <td>POINT (-75.61103 6.25759)</td>\n",
       "      <td>(-75.611031065, 6.257590259)</td>\n",
       "    </tr>\n",
       "    <tr>\n",
       "      <th>4</th>\n",
       "      <td>Antioquia</td>\n",
       "      <td>Medellín</td>\n",
       "      <td>5</td>\n",
       "      <td>5001</td>\n",
       "      <td>2003-01-01</td>\n",
       "      <td>MASCULINO</td>\n",
       "      <td>28.0</td>\n",
       "      <td>ADULTOS</td>\n",
       "      <td>1.0</td>\n",
       "      <td>6.25759</td>\n",
       "      <td>-75.611031</td>\n",
       "      <td>POINT (-75.61103 6.25759)</td>\n",
       "      <td>(-75.611031065, 6.257590259)</td>\n",
       "    </tr>\n",
       "  </tbody>\n",
       "</table>\n",
       "</div>"
      ],
      "text/plain": [
       "  Departamento Municipio  coddepto  codmpio      fecha     genero  edad  \\\n",
       "0    Antioquia  Medellín         5     5001 2003-01-01  MASCULINO  27.0   \n",
       "1    Antioquia  Medellín         5     5001 2003-01-01   FEMENINO  19.0   \n",
       "2    Antioquia  Medellín         5     5001 2003-01-01  MASCULINO  18.0   \n",
       "3    Antioquia  Medellín         5     5001 2003-01-01  MASCULINO  43.0   \n",
       "4    Antioquia  Medellín         5     5001 2003-01-01  MASCULINO  28.0   \n",
       "\n",
       "  grupo_edad  n_homicidios      lat        lon                   geometry  \\\n",
       "0    ADULTOS           1.0  6.25759 -75.611031  POINT (-75.61103 6.25759)   \n",
       "1    ADULTOS           1.0  6.25759 -75.611031  POINT (-75.61103 6.25759)   \n",
       "2    ADULTOS           2.0  6.25759 -75.611031  POINT (-75.61103 6.25759)   \n",
       "3    ADULTOS           1.0  6.25759 -75.611031  POINT (-75.61103 6.25759)   \n",
       "4    ADULTOS           1.0  6.25759 -75.611031  POINT (-75.61103 6.25759)   \n",
       "\n",
       "                    coordenadas  \n",
       "0  (-75.611031065, 6.257590259)  \n",
       "1  (-75.611031065, 6.257590259)  \n",
       "2  (-75.611031065, 6.257590259)  \n",
       "3  (-75.611031065, 6.257590259)  \n",
       "4  (-75.611031065, 6.257590259)  "
      ]
     },
     "execution_count": 18,
     "metadata": {},
     "output_type": "execute_result"
    }
   ],
   "source": [
    "## Se ponen las coordenadas con geopandas\n",
    "\n",
    "import geopandas as gpd\n",
    "\n",
    "## Se copia la base de datos \n",
    "df_homicidios = df.copy()\n",
    "\n",
    "## Se cargan las coordenadas\n",
    "df_homicidios = gpd.GeoDataFrame(df_homicidios, geometry = gpd.points_from_xy(df_homicidios.lon, df_homicidios.lat))\n",
    "df.crs = \"EPSG:4326\"\n",
    "\n",
    "df_homicidios[\"coordenadas\"] = df_homicidios[\"geometry\"].apply(lambda x: x.representative_point().coords[:][0])\n",
    "\n",
    "df_homicidios.head()"
   ]
  },
  {
   "cell_type": "code",
   "execution_count": 19,
   "metadata": {},
   "outputs": [
    {
     "data": {
      "text/html": [
       "<div>\n",
       "<style scoped>\n",
       "    .dataframe tbody tr th:only-of-type {\n",
       "        vertical-align: middle;\n",
       "    }\n",
       "\n",
       "    .dataframe tbody tr th {\n",
       "        vertical-align: top;\n",
       "    }\n",
       "\n",
       "    .dataframe thead th {\n",
       "        text-align: right;\n",
       "    }\n",
       "</style>\n",
       "<table border=\"1\" class=\"dataframe\">\n",
       "  <thead>\n",
       "    <tr style=\"text-align: right;\">\n",
       "      <th></th>\n",
       "      <th>lugar</th>\n",
       "      <th>Lat</th>\n",
       "      <th>Lon</th>\n",
       "      <th>geometry</th>\n",
       "      <th>coordenadas</th>\n",
       "    </tr>\n",
       "  </thead>\n",
       "  <tbody>\n",
       "    <tr>\n",
       "      <th>0</th>\n",
       "      <td>Hotspot</td>\n",
       "      <td>3.399044</td>\n",
       "      <td>-76.576493</td>\n",
       "      <td>POINT (-76.57649 3.39904)</td>\n",
       "      <td>(-76.576492589, 3.399043723)</td>\n",
       "    </tr>\n",
       "  </tbody>\n",
       "</table>\n",
       "</div>"
      ],
      "text/plain": [
       "     lugar       Lat        Lon                   geometry  \\\n",
       "0  Hotspot  3.399044 -76.576493  POINT (-76.57649 3.39904)   \n",
       "\n",
       "                    coordenadas  \n",
       "0  (-76.576492589, 3.399043723)  "
      ]
     },
     "execution_count": 19,
     "metadata": {},
     "output_type": "execute_result"
    }
   ],
   "source": [
    "## Se ponen las coordenadas del Hotspot\n",
    "\n",
    "HS = gpd.GeoDataFrame(HS, geometry = gpd.points_from_xy(HS.Lon, HS.Lat))\n",
    "HS.crs = \"EPSG:4326\"\n",
    "HS[\"coordenadas\"] = HS[\"geometry\"].apply(lambda x: x.representative_point().coords[:][0])\n",
    "\n",
    "## Se verifica la carga de coordenadas\n",
    "HS"
   ]
  },
  {
   "cell_type": "code",
   "execution_count": 20,
   "metadata": {},
   "outputs": [
    {
     "data": {
      "text/html": [
       "<div>\n",
       "<style scoped>\n",
       "    .dataframe tbody tr th:only-of-type {\n",
       "        vertical-align: middle;\n",
       "    }\n",
       "\n",
       "    .dataframe tbody tr th {\n",
       "        vertical-align: top;\n",
       "    }\n",
       "\n",
       "    .dataframe thead th {\n",
       "        text-align: right;\n",
       "    }\n",
       "</style>\n",
       "<table border=\"1\" class=\"dataframe\">\n",
       "  <thead>\n",
       "    <tr style=\"text-align: right;\">\n",
       "      <th></th>\n",
       "      <th>Departamento</th>\n",
       "      <th>Municipio</th>\n",
       "      <th>coddepto</th>\n",
       "      <th>codmpio</th>\n",
       "      <th>fecha</th>\n",
       "      <th>genero</th>\n",
       "      <th>edad</th>\n",
       "      <th>grupo_edad</th>\n",
       "      <th>n_homicidios</th>\n",
       "      <th>lat</th>\n",
       "      <th>lon</th>\n",
       "      <th>geometry</th>\n",
       "      <th>coordenadas</th>\n",
       "      <th>distancias</th>\n",
       "    </tr>\n",
       "  </thead>\n",
       "  <tbody>\n",
       "    <tr>\n",
       "      <th>0</th>\n",
       "      <td>Antioquia</td>\n",
       "      <td>Medellín</td>\n",
       "      <td>5</td>\n",
       "      <td>5001</td>\n",
       "      <td>2003-01-01</td>\n",
       "      <td>MASCULINO</td>\n",
       "      <td>27.0</td>\n",
       "      <td>ADULTOS</td>\n",
       "      <td>1.0</td>\n",
       "      <td>6.25759</td>\n",
       "      <td>-75.611031</td>\n",
       "      <td>POINT (-75.61103 6.25759)</td>\n",
       "      <td>(-75.611031065, 6.257590259)</td>\n",
       "      <td>333.750473</td>\n",
       "    </tr>\n",
       "    <tr>\n",
       "      <th>1</th>\n",
       "      <td>Antioquia</td>\n",
       "      <td>Medellín</td>\n",
       "      <td>5</td>\n",
       "      <td>5001</td>\n",
       "      <td>2003-01-01</td>\n",
       "      <td>FEMENINO</td>\n",
       "      <td>19.0</td>\n",
       "      <td>ADULTOS</td>\n",
       "      <td>1.0</td>\n",
       "      <td>6.25759</td>\n",
       "      <td>-75.611031</td>\n",
       "      <td>POINT (-75.61103 6.25759)</td>\n",
       "      <td>(-75.611031065, 6.257590259)</td>\n",
       "      <td>333.750473</td>\n",
       "    </tr>\n",
       "    <tr>\n",
       "      <th>2</th>\n",
       "      <td>Antioquia</td>\n",
       "      <td>Medellín</td>\n",
       "      <td>5</td>\n",
       "      <td>5001</td>\n",
       "      <td>2003-01-01</td>\n",
       "      <td>MASCULINO</td>\n",
       "      <td>18.0</td>\n",
       "      <td>ADULTOS</td>\n",
       "      <td>2.0</td>\n",
       "      <td>6.25759</td>\n",
       "      <td>-75.611031</td>\n",
       "      <td>POINT (-75.61103 6.25759)</td>\n",
       "      <td>(-75.611031065, 6.257590259)</td>\n",
       "      <td>333.750473</td>\n",
       "    </tr>\n",
       "    <tr>\n",
       "      <th>3</th>\n",
       "      <td>Antioquia</td>\n",
       "      <td>Medellín</td>\n",
       "      <td>5</td>\n",
       "      <td>5001</td>\n",
       "      <td>2003-01-01</td>\n",
       "      <td>MASCULINO</td>\n",
       "      <td>43.0</td>\n",
       "      <td>ADULTOS</td>\n",
       "      <td>1.0</td>\n",
       "      <td>6.25759</td>\n",
       "      <td>-75.611031</td>\n",
       "      <td>POINT (-75.61103 6.25759)</td>\n",
       "      <td>(-75.611031065, 6.257590259)</td>\n",
       "      <td>333.750473</td>\n",
       "    </tr>\n",
       "    <tr>\n",
       "      <th>4</th>\n",
       "      <td>Antioquia</td>\n",
       "      <td>Medellín</td>\n",
       "      <td>5</td>\n",
       "      <td>5001</td>\n",
       "      <td>2003-01-01</td>\n",
       "      <td>MASCULINO</td>\n",
       "      <td>28.0</td>\n",
       "      <td>ADULTOS</td>\n",
       "      <td>1.0</td>\n",
       "      <td>6.25759</td>\n",
       "      <td>-75.611031</td>\n",
       "      <td>POINT (-75.61103 6.25759)</td>\n",
       "      <td>(-75.611031065, 6.257590259)</td>\n",
       "      <td>333.750473</td>\n",
       "    </tr>\n",
       "  </tbody>\n",
       "</table>\n",
       "</div>"
      ],
      "text/plain": [
       "  Departamento Municipio  coddepto  codmpio      fecha     genero  edad  \\\n",
       "0    Antioquia  Medellín         5     5001 2003-01-01  MASCULINO  27.0   \n",
       "1    Antioquia  Medellín         5     5001 2003-01-01   FEMENINO  19.0   \n",
       "2    Antioquia  Medellín         5     5001 2003-01-01  MASCULINO  18.0   \n",
       "3    Antioquia  Medellín         5     5001 2003-01-01  MASCULINO  43.0   \n",
       "4    Antioquia  Medellín         5     5001 2003-01-01  MASCULINO  28.0   \n",
       "\n",
       "  grupo_edad  n_homicidios      lat        lon                   geometry  \\\n",
       "0    ADULTOS           1.0  6.25759 -75.611031  POINT (-75.61103 6.25759)   \n",
       "1    ADULTOS           1.0  6.25759 -75.611031  POINT (-75.61103 6.25759)   \n",
       "2    ADULTOS           2.0  6.25759 -75.611031  POINT (-75.61103 6.25759)   \n",
       "3    ADULTOS           1.0  6.25759 -75.611031  POINT (-75.61103 6.25759)   \n",
       "4    ADULTOS           1.0  6.25759 -75.611031  POINT (-75.61103 6.25759)   \n",
       "\n",
       "                    coordenadas  distancias  \n",
       "0  (-75.611031065, 6.257590259)  333.750473  \n",
       "1  (-75.611031065, 6.257590259)  333.750473  \n",
       "2  (-75.611031065, 6.257590259)  333.750473  \n",
       "3  (-75.611031065, 6.257590259)  333.750473  \n",
       "4  (-75.611031065, 6.257590259)  333.750473  "
      ]
     },
     "execution_count": 20,
     "metadata": {},
     "output_type": "execute_result"
    }
   ],
   "source": [
    "## Con base en las coordenadas calculadas anteriores se mide la distancia\n",
    "\n",
    "from geopy.distance import geodesic\n",
    "\n",
    "distances = []\n",
    "\n",
    "for p in range(df_homicidios.shape[0]):\n",
    "    punto = df_homicidios.coordenadas[p]\n",
    "    distancia = geodesic(\n",
    "            (HS.coordenadas[:][0][1], HS.coordenadas[:][0][0]),\n",
    "            (punto[1], punto[0])).km\n",
    "    distances.append(distancia)\n",
    "    \n",
    "df_homicidios['distancias'] = distances\n",
    "\n",
    "df_homicidios.head()"
   ]
  },
  {
   "cell_type": "code",
   "execution_count": 21,
   "metadata": {},
   "outputs": [
    {
     "data": {
      "text/html": [
       "<div>\n",
       "<style scoped>\n",
       "    .dataframe tbody tr th:only-of-type {\n",
       "        vertical-align: middle;\n",
       "    }\n",
       "\n",
       "    .dataframe tbody tr th {\n",
       "        vertical-align: top;\n",
       "    }\n",
       "\n",
       "    .dataframe thead th {\n",
       "        text-align: right;\n",
       "    }\n",
       "</style>\n",
       "<table border=\"1\" class=\"dataframe\">\n",
       "  <thead>\n",
       "    <tr style=\"text-align: right;\">\n",
       "      <th></th>\n",
       "      <th>Departamento</th>\n",
       "      <th>Municipio</th>\n",
       "      <th>coddepto</th>\n",
       "      <th>codmpio</th>\n",
       "      <th>fecha</th>\n",
       "      <th>genero</th>\n",
       "      <th>edad</th>\n",
       "      <th>grupo_edad</th>\n",
       "      <th>n_homicidios</th>\n",
       "      <th>lat</th>\n",
       "      <th>lon</th>\n",
       "      <th>geometry</th>\n",
       "      <th>coordenadas</th>\n",
       "      <th>distancias</th>\n",
       "    </tr>\n",
       "  </thead>\n",
       "  <tbody>\n",
       "    <tr>\n",
       "      <th>10</th>\n",
       "      <td>Antioquia</td>\n",
       "      <td>Medellín</td>\n",
       "      <td>5</td>\n",
       "      <td>5001</td>\n",
       "      <td>2003-01-01</td>\n",
       "      <td>MASCULINO</td>\n",
       "      <td>16.0</td>\n",
       "      <td>ADOLESCENTES</td>\n",
       "      <td>1.0</td>\n",
       "      <td>6.25759</td>\n",
       "      <td>-75.611031</td>\n",
       "      <td>POINT (-75.61103 6.25759)</td>\n",
       "      <td>(-75.611031065, 6.257590259)</td>\n",
       "      <td>333.750473</td>\n",
       "    </tr>\n",
       "    <tr>\n",
       "      <th>23</th>\n",
       "      <td>Antioquia</td>\n",
       "      <td>Medellín</td>\n",
       "      <td>5</td>\n",
       "      <td>5001</td>\n",
       "      <td>2003-01-04</td>\n",
       "      <td>MASCULINO</td>\n",
       "      <td>14.0</td>\n",
       "      <td>ADOLESCENTES</td>\n",
       "      <td>1.0</td>\n",
       "      <td>6.25759</td>\n",
       "      <td>-75.611031</td>\n",
       "      <td>POINT (-75.61103 6.25759)</td>\n",
       "      <td>(-75.611031065, 6.257590259)</td>\n",
       "      <td>333.750473</td>\n",
       "    </tr>\n",
       "    <tr>\n",
       "      <th>30</th>\n",
       "      <td>Antioquia</td>\n",
       "      <td>Medellín</td>\n",
       "      <td>5</td>\n",
       "      <td>5001</td>\n",
       "      <td>2003-01-06</td>\n",
       "      <td>MASCULINO</td>\n",
       "      <td>15.0</td>\n",
       "      <td>ADOLESCENTES</td>\n",
       "      <td>1.0</td>\n",
       "      <td>6.25759</td>\n",
       "      <td>-75.611031</td>\n",
       "      <td>POINT (-75.61103 6.25759)</td>\n",
       "      <td>(-75.611031065, 6.257590259)</td>\n",
       "      <td>333.750473</td>\n",
       "    </tr>\n",
       "    <tr>\n",
       "      <th>43</th>\n",
       "      <td>Antioquia</td>\n",
       "      <td>Medellín</td>\n",
       "      <td>5</td>\n",
       "      <td>5001</td>\n",
       "      <td>2003-01-08</td>\n",
       "      <td>MASCULINO</td>\n",
       "      <td>15.0</td>\n",
       "      <td>ADOLESCENTES</td>\n",
       "      <td>1.0</td>\n",
       "      <td>6.25759</td>\n",
       "      <td>-75.611031</td>\n",
       "      <td>POINT (-75.61103 6.25759)</td>\n",
       "      <td>(-75.611031065, 6.257590259)</td>\n",
       "      <td>333.750473</td>\n",
       "    </tr>\n",
       "    <tr>\n",
       "      <th>47</th>\n",
       "      <td>Antioquia</td>\n",
       "      <td>Medellín</td>\n",
       "      <td>5</td>\n",
       "      <td>5001</td>\n",
       "      <td>2003-01-09</td>\n",
       "      <td>MASCULINO</td>\n",
       "      <td>16.0</td>\n",
       "      <td>ADOLESCENTES</td>\n",
       "      <td>1.0</td>\n",
       "      <td>6.25759</td>\n",
       "      <td>-75.611031</td>\n",
       "      <td>POINT (-75.61103 6.25759)</td>\n",
       "      <td>(-75.611031065, 6.257590259)</td>\n",
       "      <td>333.750473</td>\n",
       "    </tr>\n",
       "  </tbody>\n",
       "</table>\n",
       "</div>"
      ],
      "text/plain": [
       "   Departamento Municipio  coddepto  codmpio      fecha     genero  edad  \\\n",
       "10    Antioquia  Medellín         5     5001 2003-01-01  MASCULINO  16.0   \n",
       "23    Antioquia  Medellín         5     5001 2003-01-04  MASCULINO  14.0   \n",
       "30    Antioquia  Medellín         5     5001 2003-01-06  MASCULINO  15.0   \n",
       "43    Antioquia  Medellín         5     5001 2003-01-08  MASCULINO  15.0   \n",
       "47    Antioquia  Medellín         5     5001 2003-01-09  MASCULINO  16.0   \n",
       "\n",
       "      grupo_edad  n_homicidios      lat        lon                   geometry  \\\n",
       "10  ADOLESCENTES           1.0  6.25759 -75.611031  POINT (-75.61103 6.25759)   \n",
       "23  ADOLESCENTES           1.0  6.25759 -75.611031  POINT (-75.61103 6.25759)   \n",
       "30  ADOLESCENTES           1.0  6.25759 -75.611031  POINT (-75.61103 6.25759)   \n",
       "43  ADOLESCENTES           1.0  6.25759 -75.611031  POINT (-75.61103 6.25759)   \n",
       "47  ADOLESCENTES           1.0  6.25759 -75.611031  POINT (-75.61103 6.25759)   \n",
       "\n",
       "                     coordenadas  distancias  \n",
       "10  (-75.611031065, 6.257590259)  333.750473  \n",
       "23  (-75.611031065, 6.257590259)  333.750473  \n",
       "30  (-75.611031065, 6.257590259)  333.750473  \n",
       "43  (-75.611031065, 6.257590259)  333.750473  \n",
       "47  (-75.611031065, 6.257590259)  333.750473  "
      ]
     },
     "execution_count": 21,
     "metadata": {},
     "output_type": "execute_result"
    }
   ],
   "source": [
    "## Se toman solo aquellos que afectan a las poblaciones vulnerables\n",
    "\n",
    "df_homicidios = df_homicidios[(df_homicidios['grupo_edad'] == 'ADOLESCENTES') | (df_homicidios['grupo_edad'] == 'MENORES')]\n",
    "\n",
    "df_homicidios.head()"
   ]
  },
  {
   "cell_type": "code",
   "execution_count": 22,
   "metadata": {},
   "outputs": [
    {
     "name": "stderr",
     "output_type": "stream",
     "text": [
      "c:\\Users\\Felipe\\anaconda3\\envs\\Financiero\\lib\\site-packages\\seaborn\\distributions.py:1699: FutureWarning: The `bw` parameter is deprecated in favor of `bw_method` and `bw_adjust`. Using scott for `bw_method`, but please see the docs for the new parameters and update your code.\n",
      "  warnings.warn(msg, FutureWarning)\n"
     ]
    },
    {
     "data": {
      "text/plain": [
       "<AxesSubplot:xlabel='distancias', ylabel='Density'>"
      ]
     },
     "execution_count": 22,
     "metadata": {},
     "output_type": "execute_result"
    },
    {
     "data": {
      "image/png": "[encoded data removed]",
      "text/plain": [
       "<Figure size 432x288 with 1 Axes>"
      ]
     },
     "metadata": {
      "needs_background": "light"
     },
     "output_type": "display_data"
    }
   ],
   "source": [
    "## Se estiman densidades\n",
    "import seaborn as sns\n",
    "\n",
    "sns.kdeplot(df_homicidios['distancias'], shade=True, bw='scott', color=\"olive\")"
   ]
  },
  {
   "cell_type": "code",
   "execution_count": 23,
   "metadata": {},
   "outputs": [
    {
     "data": {
      "text/plain": [
       "array([0.01      , 0.01274429, 0.0162417 , 0.0206989 , 0.02637929,\n",
       "       0.03361855, 0.04284447, 0.05460225, 0.06958671, 0.08868335,\n",
       "       0.11302067, 0.14403687, 0.18356483, 0.23394042, 0.29814055,\n",
       "       0.37995909, 0.48423105, 0.61711829, 0.78647371, 1.00230524])"
      ]
     },
     "execution_count": 23,
     "metadata": {},
     "output_type": "execute_result"
    }
   ],
   "source": [
    "## Se estiman los posibles anchos de banda\n",
    "\n",
    "bandwidths = 10 ** np.linspace(-2, .001, 20)\n",
    "bandwidths[0:20]"
   ]
  },
  {
   "cell_type": "code",
   "execution_count": 24,
   "metadata": {},
   "outputs": [
    {
     "name": "stderr",
     "output_type": "stream",
     "text": [
      "c:\\Users\\Felipe\\anaconda3\\envs\\Financiero\\lib\\site-packages\\sklearn\\model_selection\\_search.py:953: UserWarning: One or more of the test scores are non-finite: [-3.44876000e+08            -inf            -inf            -inf\n",
      " -2.12343655e+08            -inf            -inf            -inf\n",
      " -1.30743844e+08            -inf            -inf            -inf\n",
      " -8.05032061e+07            -inf            -inf            -inf\n",
      " -4.95703252e+07            -inf            -inf            -inf\n",
      " -3.05252529e+07            -inf            -inf            -inf\n",
      " -1.87994484e+07            -inf            -inf            -inf\n",
      " -1.15801322e+07            -inf            -inf            -inf\n",
      " -7.13543826e+06            -inf            -inf            -inf\n",
      " -4.39908530e+06            -inf            -inf            -inf\n",
      " -2.71454936e+06            -inf            -inf            -inf\n",
      " -1.67759195e+06            -inf            -inf            -inf\n",
      " -1.03933161e+06            -inf            -inf            -inf\n",
      " -6.46470876e+05            -inf            -inf            -inf\n",
      " -4.04843124e+05            -inf            -inf            -inf\n",
      " -2.56228335e+05            -inf            -inf            -inf\n",
      " -1.64899495e+05            -inf            -inf            -inf\n",
      " -1.08795531e+05            -inf            -inf            -inf\n",
      " -7.43235469e+04            -inf            -inf            -inf\n",
      " -5.31316187e+04            -inf            -inf            -inf]\n",
      "  warnings.warn(\n",
      "c:\\Users\\Felipe\\anaconda3\\envs\\Financiero\\lib\\site-packages\\sklearn\\model_selection\\_search.py:962: RuntimeWarning: invalid value encountered in subtract\n",
      "  (array - array_means[:, np.newaxis]) ** 2, axis=1, weights=weights\n"
     ]
    },
    {
     "data": {
      "text/html": [
       "<style>#sk-container-id-1 {color: black;background-color: white;}#sk-container-id-1 pre{padding: 0;}#sk-container-id-1 div.sk-toggleable {background-color: white;}#sk-container-id-1 label.sk-toggleable__label {cursor: pointer;display: block;width: 100%;margin-bottom: 0;padding: 0.3em;box-sizing: border-box;text-align: center;}#sk-container-id-1 label.sk-toggleable__label-arrow:before {content: \"▸\";float: left;margin-right: 0.25em;color: #696969;}#sk-container-id-1 label.sk-toggleable__label-arrow:hover:before {color: black;}#sk-container-id-1 div.sk-estimator:hover label.sk-toggleable__label-arrow:before {color: black;}#sk-container-id-1 div.sk-toggleable__content {max-height: 0;max-width: 0;overflow: hidden;text-align: left;background-color: #f0f8ff;}#sk-container-id-1 div.sk-toggleable__content pre {margin: 0.2em;color: black;border-radius: 0.25em;background-color: #f0f8ff;}#sk-container-id-1 input.sk-toggleable__control:checked~div.sk-toggleable__content {max-height: 200px;max-width: 100%;overflow: auto;}#sk-container-id-1 input.sk-toggleable__control:checked~label.sk-toggleable__label-arrow:before {content: \"▾\";}#sk-container-id-1 div.sk-estimator input.sk-toggleable__control:checked~label.sk-toggleable__label {background-color: #d4ebff;}#sk-container-id-1 div.sk-label input.sk-toggleable__control:checked~label.sk-toggleable__label {background-color: #d4ebff;}#sk-container-id-1 input.sk-hidden--visually {border: 0;clip: rect(1px 1px 1px 1px);clip: rect(1px, 1px, 1px, 1px);height: 1px;margin: -1px;overflow: hidden;padding: 0;position: absolute;width: 1px;}#sk-container-id-1 div.sk-estimator {font-family: monospace;background-color: #f0f8ff;border: 1px dotted black;border-radius: 0.25em;box-sizing: border-box;margin-bottom: 0.5em;}#sk-container-id-1 div.sk-estimator:hover {background-color: #d4ebff;}#sk-container-id-1 div.sk-parallel-item::after {content: \"\";width: 100%;border-bottom: 1px solid gray;flex-grow: 1;}#sk-container-id-1 div.sk-label:hover label.sk-toggleable__label {background-color: #d4ebff;}#sk-container-id-1 div.sk-serial::before {content: \"\";position: absolute;border-left: 1px solid gray;box-sizing: border-box;top: 0;bottom: 0;left: 50%;z-index: 0;}#sk-container-id-1 div.sk-serial {display: flex;flex-direction: column;align-items: center;background-color: white;padding-right: 0.2em;padding-left: 0.2em;position: relative;}#sk-container-id-1 div.sk-item {position: relative;z-index: 1;}#sk-container-id-1 div.sk-parallel {display: flex;align-items: stretch;justify-content: center;background-color: white;position: relative;}#sk-container-id-1 div.sk-item::before, #sk-container-id-1 div.sk-parallel-item::before {content: \"\";position: absolute;border-left: 1px solid gray;box-sizing: border-box;top: 0;bottom: 0;left: 50%;z-index: -1;}#sk-container-id-1 div.sk-parallel-item {display: flex;flex-direction: column;z-index: 1;position: relative;background-color: white;}#sk-container-id-1 div.sk-parallel-item:first-child::after {align-self: flex-end;width: 50%;}#sk-container-id-1 div.sk-parallel-item:last-child::after {align-self: flex-start;width: 50%;}#sk-container-id-1 div.sk-parallel-item:only-child::after {width: 0;}#sk-container-id-1 div.sk-dashed-wrapped {border: 1px dashed gray;margin: 0 0.4em 0.5em 0.4em;box-sizing: border-box;padding-bottom: 0.4em;background-color: white;}#sk-container-id-1 div.sk-label label {font-family: monospace;font-weight: bold;display: inline-block;line-height: 1.2em;}#sk-container-id-1 div.sk-label-container {text-align: center;}#sk-container-id-1 div.sk-container {/* jupyter's `normalize.less` sets `[hidden] { display: none; }` but bootstrap.min.css set `[hidden] { display: none !important; }` so we also need the `!important` here to be able to override the default hidden behavior on the sphinx rendered scikit-learn.org. See: https://github.com/scikit-learn/scikit-learn/issues/21755 */display: inline-block !important;position: relative;}#sk-container-id-1 div.sk-text-repr-fallback {display: none;}</style><div id=\"sk-container-id-1\" class=\"sk-top-container\"><div class=\"sk-text-repr-fallback\"><pre>GridSearchCV(cv=5, estimator=KernelDensity(),\n",
       "             param_grid={&#x27;bandwidth&#x27;: array([0.01      , 0.01274429, 0.0162417 , 0.0206989 , 0.02637929,\n",
       "       0.03361855, 0.04284447, 0.05460225, 0.06958671, 0.08868335,\n",
       "       0.11302067, 0.14403687, 0.18356483, 0.23394042, 0.29814055,\n",
       "       0.37995909, 0.48423105, 0.61711829, 0.78647371, 1.00230524]),\n",
       "                         &#x27;kernel&#x27;: [&#x27;gaussian&#x27;, &#x27;epanechnikov&#x27;, &#x27;tophat&#x27;,\n",
       "                                    &#x27;linear&#x27;]})</pre><b>In a Jupyter environment, please rerun this cell to show the HTML representation or trust the notebook. <br />On GitHub, the HTML representation is unable to render, please try loading this page with nbviewer.org.</b></div><div class=\"sk-container\" hidden><div class=\"sk-item sk-dashed-wrapped\"><div class=\"sk-label-container\"><div class=\"sk-label sk-toggleable\"><input class=\"sk-toggleable__control sk-hidden--visually\" id=\"sk-estimator-id-1\" type=\"checkbox\" ><label for=\"sk-estimator-id-1\" class=\"sk-toggleable__label sk-toggleable__label-arrow\">GridSearchCV</label><div class=\"sk-toggleable__content\"><pre>GridSearchCV(cv=5, estimator=KernelDensity(),\n",
       "             param_grid={&#x27;bandwidth&#x27;: array([0.01      , 0.01274429, 0.0162417 , 0.0206989 , 0.02637929,\n",
       "       0.03361855, 0.04284447, 0.05460225, 0.06958671, 0.08868335,\n",
       "       0.11302067, 0.14403687, 0.18356483, 0.23394042, 0.29814055,\n",
       "       0.37995909, 0.48423105, 0.61711829, 0.78647371, 1.00230524]),\n",
       "                         &#x27;kernel&#x27;: [&#x27;gaussian&#x27;, &#x27;epanechnikov&#x27;, &#x27;tophat&#x27;,\n",
       "                                    &#x27;linear&#x27;]})</pre></div></div></div><div class=\"sk-parallel\"><div class=\"sk-parallel-item\"><div class=\"sk-item\"><div class=\"sk-label-container\"><div class=\"sk-label sk-toggleable\"><input class=\"sk-toggleable__control sk-hidden--visually\" id=\"sk-estimator-id-2\" type=\"checkbox\" ><label for=\"sk-estimator-id-2\" class=\"sk-toggleable__label sk-toggleable__label-arrow\">estimator: KernelDensity</label><div class=\"sk-toggleable__content\"><pre>KernelDensity()</pre></div></div></div><div class=\"sk-serial\"><div class=\"sk-item\"><div class=\"sk-estimator sk-toggleable\"><input class=\"sk-toggleable__control sk-hidden--visually\" id=\"sk-estimator-id-3\" type=\"checkbox\" ><label for=\"sk-estimator-id-3\" class=\"sk-toggleable__label sk-toggleable__label-arrow\">KernelDensity</label><div class=\"sk-toggleable__content\"><pre>KernelDensity()</pre></div></div></div></div></div></div></div></div></div></div>"
      ],
      "text/plain": [
       "GridSearchCV(cv=5, estimator=KernelDensity(),\n",
       "             param_grid={'bandwidth': array([0.01      , 0.01274429, 0.0162417 , 0.0206989 , 0.02637929,\n",
       "       0.03361855, 0.04284447, 0.05460225, 0.06958671, 0.08868335,\n",
       "       0.11302067, 0.14403687, 0.18356483, 0.23394042, 0.29814055,\n",
       "       0.37995909, 0.48423105, 0.61711829, 0.78647371, 1.00230524]),\n",
       "                         'kernel': ['gaussian', 'epanechnikov', 'tophat',\n",
       "                                    'linear']})"
      ]
     },
     "execution_count": 24,
     "metadata": {},
     "output_type": "execute_result"
    }
   ],
   "source": [
    "## Se realiza validación cruzada\n",
    "\n",
    "grid = { \n",
    "    'bandwidth': bandwidths,\n",
    "    'kernel': ['gaussian','epanechnikov', 'tophat', 'linear']\n",
    "}\n",
    "\n",
    "gridCV = GridSearchCV(KernelDensity(),\n",
    "                    param_grid=grid,\n",
    "                    cv=5,verbose=0)\n",
    "vals=df_homicidios['distancias'].to_numpy().reshape(-1, 1)\n",
    "gridCV.fit(vals)"
   ]
  },
  {
   "cell_type": "code",
   "execution_count": 25,
   "metadata": {},
   "outputs": [
    {
     "data": {
      "text/plain": [
       "{'bandwidth': 1.0023052380778996, 'kernel': 'gaussian'}"
      ]
     },
     "execution_count": 25,
     "metadata": {},
     "output_type": "execute_result"
    }
   ],
   "source": [
    "## Se verifican los mejores parametros encontrados\n",
    "gridCV.best_params_"
   ]
  },
  {
   "cell_type": "code",
   "execution_count": 26,
   "metadata": {},
   "outputs": [
    {
     "name": "stderr",
     "output_type": "stream",
     "text": [
      "c:\\Users\\Felipe\\anaconda3\\envs\\Financiero\\lib\\site-packages\\seaborn\\distributions.py:1699: FutureWarning: The `bw` parameter is deprecated in favor of `bw_method` and `bw_adjust`. Using 1.0023052380778996 for `bw_method`, but please see the docs for the new parameters and update your code.\n",
      "  warnings.warn(msg, FutureWarning)\n",
      "c:\\Users\\Felipe\\anaconda3\\envs\\Financiero\\lib\\site-packages\\seaborn\\distributions.py:1708: UserWarning: Support for alternate kernels has been removed. Using Gaussian kernel.\n",
      "  warnings.warn(msg, UserWarning)\n"
     ]
    },
    {
     "data": {
      "image/png": "[encoded data removed]",
      "text/plain": [
       "<Figure size 432x288 with 1 Axes>"
      ]
     },
     "metadata": {
      "needs_background": "light"
     },
     "output_type": "display_data"
    }
   ],
   "source": [
    "## Se gráfica la densidad\n",
    "sns.kdeplot(df_homicidios['distancias'], shade=True, bw=1.0023052380778996, kernel='gaussian', color=\"blue\")\n",
    "plt.xlim(0, None)\n",
    "plt.show()"
   ]
  },
  {
   "cell_type": "markdown",
   "metadata": {},
   "source": [
    "### Clustering con Agglomerative Hierarchical Clustering\n",
    "\n",
    "Se procede a desarrollar el Clustering"
   ]
  },
  {
   "cell_type": "code",
   "execution_count": 163,
   "metadata": {},
   "outputs": [
    {
     "data": {
      "text/html": [
       "<div>\n",
       "<style scoped>\n",
       "    .dataframe tbody tr th:only-of-type {\n",
       "        vertical-align: middle;\n",
       "    }\n",
       "\n",
       "    .dataframe tbody tr th {\n",
       "        vertical-align: top;\n",
       "    }\n",
       "\n",
       "    .dataframe thead th {\n",
       "        text-align: right;\n",
       "    }\n",
       "</style>\n",
       "<table border=\"1\" class=\"dataframe\">\n",
       "  <thead>\n",
       "    <tr style=\"text-align: right;\">\n",
       "      <th></th>\n",
       "      <th>Departamento</th>\n",
       "      <th>Municipio</th>\n",
       "      <th>coddepto</th>\n",
       "      <th>codmpio</th>\n",
       "      <th>fecha</th>\n",
       "      <th>genero</th>\n",
       "      <th>edad</th>\n",
       "      <th>grupo_edad</th>\n",
       "      <th>n_homicidios</th>\n",
       "      <th>lat</th>\n",
       "      <th>lon</th>\n",
       "    </tr>\n",
       "  </thead>\n",
       "  <tbody>\n",
       "    <tr>\n",
       "      <th>10</th>\n",
       "      <td>Antioquia</td>\n",
       "      <td>Medellín</td>\n",
       "      <td>5</td>\n",
       "      <td>5001</td>\n",
       "      <td>2003-01-01</td>\n",
       "      <td>MASCULINO</td>\n",
       "      <td>16.0</td>\n",
       "      <td>ADOLESCENTES</td>\n",
       "      <td>1.0</td>\n",
       "      <td>6.25759</td>\n",
       "      <td>-75.611031</td>\n",
       "    </tr>\n",
       "  </tbody>\n",
       "</table>\n",
       "</div>"
      ],
      "text/plain": [
       "   Departamento Municipio  coddepto  codmpio      fecha     genero  edad  \\\n",
       "10    Antioquia  Medellín         5     5001 2003-01-01  MASCULINO  16.0   \n",
       "\n",
       "      grupo_edad  n_homicidios      lat        lon  \n",
       "10  ADOLESCENTES           1.0  6.25759 -75.611031  "
      ]
     },
     "execution_count": 163,
     "metadata": {},
     "output_type": "execute_result"
    }
   ],
   "source": [
    "df_vulnerable.head(1)"
   ]
  },
  {
   "cell_type": "code",
   "execution_count": 164,
   "metadata": {},
   "outputs": [
    {
     "name": "stderr",
     "output_type": "stream",
     "text": [
      "C:\\Users\\JD_01\\AppData\\Local\\Temp\\ipykernel_12964\\823030861.py:5: SettingWithCopyWarning: \n",
      "A value is trying to be set on a copy of a slice from a DataFrame.\n",
      "Try using .loc[row_indexer,col_indexer] = value instead\n",
      "\n",
      "See the caveats in the documentation: https://pandas.pydata.org/pandas-docs/stable/user_guide/indexing.html#returning-a-view-versus-a-copy\n",
      "  df_vulnerable['Municipio_factor'] = Municipio_num\n",
      "C:\\Users\\JD_01\\AppData\\Local\\Temp\\ipykernel_12964\\823030861.py:7: SettingWithCopyWarning: \n",
      "A value is trying to be set on a copy of a slice from a DataFrame.\n",
      "Try using .loc[row_indexer,col_indexer] = value instead\n",
      "\n",
      "See the caveats in the documentation: https://pandas.pydata.org/pandas-docs/stable/user_guide/indexing.html#returning-a-view-versus-a-copy\n",
      "  df_vulnerable['Dep_factor'] = Dep_num\n",
      "C:\\Users\\JD_01\\AppData\\Roaming\\Python\\Python311\\site-packages\\sklearn\\utils\\validation.py:767: FutureWarning: is_sparse is deprecated and will be removed in a future version. Check `isinstance(dtype, pd.SparseDtype)` instead.\n",
      "  if not hasattr(array, \"sparse\") and array.dtypes.apply(is_sparse).any():\n",
      "C:\\Users\\JD_01\\AppData\\Roaming\\Python\\Python311\\site-packages\\sklearn\\utils\\validation.py:605: FutureWarning: is_sparse is deprecated and will be removed in a future version. Check `isinstance(dtype, pd.SparseDtype)` instead.\n",
      "  if is_sparse(pd_dtype):\n",
      "C:\\Users\\JD_01\\AppData\\Roaming\\Python\\Python311\\site-packages\\sklearn\\utils\\validation.py:614: FutureWarning: is_sparse is deprecated and will be removed in a future version. Check `isinstance(dtype, pd.SparseDtype)` instead.\n",
      "  if is_sparse(pd_dtype) or not is_extension_array_dtype(pd_dtype):\n",
      "C:\\Users\\JD_01\\AppData\\Roaming\\Python\\Python311\\site-packages\\sklearn\\utils\\validation.py:767: FutureWarning: is_sparse is deprecated and will be removed in a future version. Check `isinstance(dtype, pd.SparseDtype)` instead.\n",
      "  if not hasattr(array, \"sparse\") and array.dtypes.apply(is_sparse).any():\n",
      "C:\\Users\\JD_01\\AppData\\Roaming\\Python\\Python311\\site-packages\\sklearn\\utils\\validation.py:605: FutureWarning: is_sparse is deprecated and will be removed in a future version. Check `isinstance(dtype, pd.SparseDtype)` instead.\n",
      "  if is_sparse(pd_dtype):\n",
      "C:\\Users\\JD_01\\AppData\\Roaming\\Python\\Python311\\site-packages\\sklearn\\utils\\validation.py:614: FutureWarning: is_sparse is deprecated and will be removed in a future version. Check `isinstance(dtype, pd.SparseDtype)` instead.\n",
      "  if is_sparse(pd_dtype) or not is_extension_array_dtype(pd_dtype):\n"
     ]
    }
   ],
   "source": [
    "## Se estandariza la información a la que se dara uso\n",
    "\n",
    "scaler = StandardScaler()\n",
    "Municipio_num, Municipio_unicos = pd.factorize(df_vulnerable['Municipio'])\n",
    "df_vulnerable['Municipio_factor'] = Municipio_num\n",
    "Dep_num, Dep_unicos = pd.factorize(df_vulnerable['Departamento'])\n",
    "df_vulnerable['Dep_factor'] = Dep_num\n",
    "dic_Mun = dict(zip(Municipio_num, Municipio_unicos))\n",
    "dic_Dep = dict(zip(Dep_num, Dep_unicos))\n",
    "scaled_data = scaler.fit_transform(df_vulnerable[['n_homicidios', 'Dep_factor', 'Municipio_factor']])\n",
    "X = scaled_data\n",
    "\n"
   ]
  },
  {
   "cell_type": "code",
   "execution_count": 165,
   "metadata": {},
   "outputs": [
    {
     "data": {
      "text/plain": [
       "[<matplotlib.lines.Line2D at 0x1b9a781bfd0>]"
      ]
     },
     "execution_count": 165,
     "metadata": {},
     "output_type": "execute_result"
    },
    {
     "data": {
      "image/png": "[encoded data removed]",
      "text/plain": [
       "<Figure size 1000x800 with 1 Axes>"
      ]
     },
     "metadata": {},
     "output_type": "display_data"
    }
   ],
   "source": [
    "neigh = NearestNeighbors(n_neighbors = 10)\n",
    "nbrs = neigh.fit(X)\n",
    "distancias, indices = nbrs.kneighbors(X)\n",
    "distancias = np.sort(distancias.flatten())\n",
    "fig=plt.figure(figsize=(10,8), dpi= 100, facecolor='w', edgecolor='k')\n",
    "plt.axhline(y = 1.13, color = 'r', linestyle = '--')\n",
    "plt.plot(distancias)"
   ]
  },
  {
   "cell_type": "code",
   "execution_count": 166,
   "metadata": {},
   "outputs": [
    {
     "name": "stdout",
     "output_type": "stream",
     "text": [
      "0.0\n"
     ]
    }
   ],
   "source": [
    "i = np.arange(len(distancias))\n",
    "knee = KneeLocator(i, distancias, S=1, curve='convex', direction='increasing', interp_method='polynomial')\n",
    "\n",
    "print(distancias[knee.knee])"
   ]
  },
  {
   "cell_type": "code",
   "execution_count": 167,
   "metadata": {},
   "outputs": [],
   "source": [
    "gower_dist_matrix = gower_matrix(X)"
   ]
  },
  {
   "cell_type": "code",
   "execution_count": null,
   "metadata": {},
   "outputs": [],
   "source": [
    "# Calcula el enlace utilizando la matriz de distancias de Gower y el método de enlace deseado\n",
    "Z = linkage(gower_dist_matrix, method='ward')  # Puedes elegir otro método si lo prefieres\n",
    "\n",
    "# Crea un dendrograma para visualizar el clustering jerárquico\n",
    "plt.figure(figsize=(10, 6))\n",
    "dendrogram(Z, labels=labels)  # Labels son las etiquetas de tus observaciones si las tienes\n",
    "plt.title('Dendrograma de Clustering Jerárquico')\n",
    "plt.xlabel('Índices de Datos')\n",
    "plt.ylabel('Distancia')\n",
    "plt.show()"
   ]
  },
  {
   "cell_type": "code",
   "execution_count": null,
   "metadata": {},
   "outputs": [],
   "source": []
  }
 ],
 "metadata": {
  "kernelspec": {
   "display_name": "Financiero",
   "language": "python",
   "name": "python3"
  },
  "language_info": {
   "codemirror_mode": {
    "name": "ipython",
    "version": 3
   },
   "file_extension": ".py",
   "mimetype": "text/x-python",
   "name": "python",
   "nbconvert_exporter": "python",
   "pygments_lexer": "ipython3",
   "version": "3.9.12"
  },
  "orig_nbformat": 4
 },
 "nbformat": 4,
 "nbformat_minor": 2
}
