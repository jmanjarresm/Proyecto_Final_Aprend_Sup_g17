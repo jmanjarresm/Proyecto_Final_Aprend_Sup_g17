{
 "cells": [
  {
   "cell_type": "markdown",
   "metadata": {},
   "source": [
    "# Desarrollo del Proyecto\n",
    "\n",
    "## Objetivo\n",
    "\n",
    "El objetivo principal de este proyecto es aplicar el algoritmo de Agglomerative Hierarchical Clustering para identificar los municipios en los que se debe enfocar un mayor esfuerzo y recursos con el fin de combatir los homicidios contra un segmento de la población especialmente vulnerable, como lo son los niños, niñas y adolescentes. El enfoque en este grupo demográfico se debe a la importancia de proteger a los más jóvenes de la sociedad y garantizar su seguridad. El proyecto busca agrupar municipios con perfiles similares en términos de homicidios contra este grupo, lo que permitirá una asignación más eficiente de recursos y esfuerzos preventivos.\n",
    "\n",
    "## Desarrollo\n",
    "\n",
    "El desarrollo de este proyecto se llevará a cabo en las siguientes etapas:\n",
    "\n",
    "### Análisis Descriptivo de la Información\n",
    "\n",
    "#### Analisis Exploratorio de Datos y Preprocesamiento de la Información\n",
    "\n",
    "En esta fase inicial, se realizará un análisis detallado de los datos disponibles. Se verificarán las características de la información, se identificarán posibles datos atípicos y se llevará a cabo la limpieza y preparación de los datos para su posterior análisis. Este paso es fundamental para garantizar la calidad y confiabilidad de los resultados del clustering.\n",
    "\n",
    "### Clustering con Agglomerative Hierarchical Clustering\n",
    "\n",
    "En esta etapa central del proyecto, se aplicará el algoritmo de Agglomerative Hierarchical Clustering. Este algoritmo es especialmente adecuado para el caso, ya que puede manejar datos mixtos, incluyendo variables categóricas y numéricas. Se exploraran diferentes enfoques y configuraciones para identificar los grupos de municipios que presentan patrones similares en términos de homicidios contra niños, niñas y adolescentes. Se dara uso técnicas de visualización, como dendrogramas, para comprender la estructura de los grupos.\n",
    "\n",
    "### Resultados y Evaluación\n",
    "\n",
    "Una vez completado el proceso de clustering, se evaluaran los resultados obtenidos. Se analizara la composición de los grupos identificados y verificando si existen diferencias significativas en los niveles de homicidios entre los grupos. También se examinara la coherencia interna de los grupos y su capacidad para identificar municipios con necesidades similares en términos de prevención de homicidios.\n",
    "\n",
    "### Conclusiones y Recomendaciones\n",
    "\n",
    "Finalmente, con base en los resultados obtenidos, se determinaran conclusiones importantes y daran recomendaciones para la toma de decisiones identificando los municipios que requieren una atención prioritaria en la lucha contra los homicidios dirigidos a niños, niñas y adolescentes."
   ]
  },
  {
   "cell_type": "code",
   "execution_count": 1,
   "metadata": {},
   "outputs": [],
   "source": [
    "## Se cargan las líbrerias que a las que se le dara uso para el desarrollo de este proyecto\n",
    "import pandas as pd\n",
    "import numpy as np\n",
    "import seaborn as sns\n",
    "import matplotlib.pyplot as plt\n",
    "from sklearn.cluster import AgglomerativeClustering\n",
    "from scipy.cluster.hierarchy import linkage, fcluster\n",
    "from scipy.cluster.hierarchy import dendrogram\n",
    "from sklearn.preprocessing import StandardScaler\n",
    "from sklearn.neighbors import NearestNeighbors\n",
    "from gower import gower_matrix\n",
    "from kneed import KneeLocator"
   ]
  },
  {
   "cell_type": "markdown",
   "metadata": {},
   "source": [
    "### Analisis Descriptivo de la Información\n",
    "\n",
    "Se procede a cargar la información y realizar un analissi de los datos de los que se dispone en la base de datos obtenidas del CEDE."
   ]
  },
  {
   "cell_type": "code",
   "execution_count": 4,
   "metadata": {},
   "outputs": [
    {
     "data": {
      "text/html": [
       "<div>\n",
       "<style scoped>\n",
       "    .dataframe tbody tr th:only-of-type {\n",
       "        vertical-align: middle;\n",
       "    }\n",
       "\n",
       "    .dataframe tbody tr th {\n",
       "        vertical-align: top;\n",
       "    }\n",
       "\n",
       "    .dataframe thead th {\n",
       "        text-align: right;\n",
       "    }\n",
       "</style>\n",
       "<table border=\"1\" class=\"dataframe\">\n",
       "  <thead>\n",
       "    <tr style=\"text-align: right;\">\n",
       "      <th></th>\n",
       "      <th>Departamento</th>\n",
       "      <th>Municipio</th>\n",
       "      <th>coddepto</th>\n",
       "      <th>codmpio</th>\n",
       "      <th>fecha</th>\n",
       "      <th>genero</th>\n",
       "      <th>edad</th>\n",
       "      <th>grupo_edad</th>\n",
       "      <th>n_homicidios</th>\n",
       "    </tr>\n",
       "  </thead>\n",
       "  <tbody>\n",
       "    <tr>\n",
       "      <th>0</th>\n",
       "      <td>Antioquia</td>\n",
       "      <td>Medellín</td>\n",
       "      <td>5</td>\n",
       "      <td>5001.0</td>\n",
       "      <td>2003-01-01</td>\n",
       "      <td>MASCULINO</td>\n",
       "      <td>27.0</td>\n",
       "      <td>ADULTOS</td>\n",
       "      <td>1.0</td>\n",
       "    </tr>\n",
       "    <tr>\n",
       "      <th>1</th>\n",
       "      <td>Antioquia</td>\n",
       "      <td>Medellín</td>\n",
       "      <td>5</td>\n",
       "      <td>5001.0</td>\n",
       "      <td>2003-01-01</td>\n",
       "      <td>FEMENINO</td>\n",
       "      <td>19.0</td>\n",
       "      <td>ADULTOS</td>\n",
       "      <td>1.0</td>\n",
       "    </tr>\n",
       "    <tr>\n",
       "      <th>2</th>\n",
       "      <td>Antioquia</td>\n",
       "      <td>Medellín</td>\n",
       "      <td>5</td>\n",
       "      <td>5001.0</td>\n",
       "      <td>2003-01-01</td>\n",
       "      <td>MASCULINO</td>\n",
       "      <td>18.0</td>\n",
       "      <td>ADULTOS</td>\n",
       "      <td>2.0</td>\n",
       "    </tr>\n",
       "    <tr>\n",
       "      <th>3</th>\n",
       "      <td>Antioquia</td>\n",
       "      <td>Medellín</td>\n",
       "      <td>5</td>\n",
       "      <td>5001.0</td>\n",
       "      <td>2003-01-01</td>\n",
       "      <td>MASCULINO</td>\n",
       "      <td>43.0</td>\n",
       "      <td>ADULTOS</td>\n",
       "      <td>1.0</td>\n",
       "    </tr>\n",
       "    <tr>\n",
       "      <th>4</th>\n",
       "      <td>Antioquia</td>\n",
       "      <td>Medellín</td>\n",
       "      <td>5</td>\n",
       "      <td>5001.0</td>\n",
       "      <td>2003-01-01</td>\n",
       "      <td>MASCULINO</td>\n",
       "      <td>28.0</td>\n",
       "      <td>ADULTOS</td>\n",
       "      <td>1.0</td>\n",
       "    </tr>\n",
       "  </tbody>\n",
       "</table>\n",
       "</div>"
      ],
      "text/plain": [
       "  Departamento Municipio  coddepto  codmpio      fecha     genero  edad  \\\n",
       "0    Antioquia  Medellín         5   5001.0 2003-01-01  MASCULINO  27.0   \n",
       "1    Antioquia  Medellín         5   5001.0 2003-01-01   FEMENINO  19.0   \n",
       "2    Antioquia  Medellín         5   5001.0 2003-01-01  MASCULINO  18.0   \n",
       "3    Antioquia  Medellín         5   5001.0 2003-01-01  MASCULINO  43.0   \n",
       "4    Antioquia  Medellín         5   5001.0 2003-01-01  MASCULINO  28.0   \n",
       "\n",
       "  grupo_edad  n_homicidios  \n",
       "0    ADULTOS           1.0  \n",
       "1    ADULTOS           1.0  \n",
       "2    ADULTOS           2.0  \n",
       "3    ADULTOS           1.0  \n",
       "4    ADULTOS           1.0  "
      ]
     },
     "execution_count": 4,
     "metadata": {},
     "output_type": "execute_result"
    }
   ],
   "source": [
    "## Se carga la base original\n",
    "df = pd.read_stata(r'..\\data\\Homicidios_2003-Ag2017.dta')\n",
    "df.head()"
   ]
  },
  {
   "cell_type": "code",
   "execution_count": 3,
   "metadata": {},
   "outputs": [
    {
     "data": {
      "text/html": [
       "<div>\n",
       "<style scoped>\n",
       "    .dataframe tbody tr th:only-of-type {\n",
       "        vertical-align: middle;\n",
       "    }\n",
       "\n",
       "    .dataframe tbody tr th {\n",
       "        vertical-align: top;\n",
       "    }\n",
       "\n",
       "    .dataframe thead th {\n",
       "        text-align: right;\n",
       "    }\n",
       "</style>\n",
       "<table border=\"1\" class=\"dataframe\">\n",
       "  <thead>\n",
       "    <tr style=\"text-align: right;\">\n",
       "      <th></th>\n",
       "      <th>coddepto</th>\n",
       "      <th>codmpio</th>\n",
       "      <th>edad</th>\n",
       "      <th>n_homicidios</th>\n",
       "    </tr>\n",
       "  </thead>\n",
       "  <tbody>\n",
       "    <tr>\n",
       "      <th>count</th>\n",
       "      <td>221538.000000</td>\n",
       "      <td>221538.000000</td>\n",
       "      <td>219344.00000</td>\n",
       "      <td>221538.000000</td>\n",
       "    </tr>\n",
       "    <tr>\n",
       "      <th>mean</th>\n",
       "      <td>40.573378</td>\n",
       "      <td>40821.849430</td>\n",
       "      <td>32.23739</td>\n",
       "      <td>1.027232</td>\n",
       "    </tr>\n",
       "    <tr>\n",
       "      <th>std</th>\n",
       "      <td>29.050849</td>\n",
       "      <td>29066.391727</td>\n",
       "      <td>12.57412</td>\n",
       "      <td>0.208083</td>\n",
       "    </tr>\n",
       "    <tr>\n",
       "      <th>min</th>\n",
       "      <td>5.000000</td>\n",
       "      <td>5001.000000</td>\n",
       "      <td>0.00000</td>\n",
       "      <td>1.000000</td>\n",
       "    </tr>\n",
       "    <tr>\n",
       "      <th>25%</th>\n",
       "      <td>11.000000</td>\n",
       "      <td>11001.000000</td>\n",
       "      <td>23.00000</td>\n",
       "      <td>1.000000</td>\n",
       "    </tr>\n",
       "    <tr>\n",
       "      <th>50%</th>\n",
       "      <td>44.000000</td>\n",
       "      <td>44001.000000</td>\n",
       "      <td>30.00000</td>\n",
       "      <td>1.000000</td>\n",
       "    </tr>\n",
       "    <tr>\n",
       "      <th>75%</th>\n",
       "      <td>73.000000</td>\n",
       "      <td>73410.250000</td>\n",
       "      <td>39.00000</td>\n",
       "      <td>1.000000</td>\n",
       "    </tr>\n",
       "    <tr>\n",
       "      <th>max</th>\n",
       "      <td>99.000000</td>\n",
       "      <td>99773.000000</td>\n",
       "      <td>99.00000</td>\n",
       "      <td>25.000000</td>\n",
       "    </tr>\n",
       "  </tbody>\n",
       "</table>\n",
       "</div>"
      ],
      "text/plain": [
       "            coddepto        codmpio          edad   n_homicidios\n",
       "count  221538.000000  221538.000000  219344.00000  221538.000000\n",
       "mean       40.573378   40821.849430      32.23739       1.027232\n",
       "std        29.050849   29066.391727      12.57412       0.208083\n",
       "min         5.000000    5001.000000       0.00000       1.000000\n",
       "25%        11.000000   11001.000000      23.00000       1.000000\n",
       "50%        44.000000   44001.000000      30.00000       1.000000\n",
       "75%        73.000000   73410.250000      39.00000       1.000000\n",
       "max        99.000000   99773.000000      99.00000      25.000000"
      ]
     },
     "execution_count": 3,
     "metadata": {},
     "output_type": "execute_result"
    }
   ],
   "source": [
    "## Se ven las caracteristicas generales de las variables númericas\n",
    "df.describe()"
   ]
  },
  {
   "cell_type": "code",
   "execution_count": 4,
   "metadata": {},
   "outputs": [
    {
     "data": {
      "text/plain": [
       "(221538, 9)"
      ]
     },
     "execution_count": 4,
     "metadata": {},
     "output_type": "execute_result"
    }
   ],
   "source": [
    "# Tamaño de la base\n",
    "df.shape"
   ]
  },
  {
   "cell_type": "markdown",
   "metadata": {},
   "source": [
    "Como se puede ver a primera vista se cuenta con una base de datos bastante completa con nueve variables y 221.538 filas. Sin embargo, la base de datos contiene informacón más alla de los adolescentes y menores de edad como se puede observar a continuación por lo cual es necesario depurarla."
   ]
  },
  {
   "cell_type": "code",
   "execution_count": 5,
   "metadata": {},
   "outputs": [
    {
     "data": {
      "text/plain": [
       "ADULTOS         207757\n",
       "ADOLESCENTES     11993\n",
       "MENORES           1788\n",
       "Name: grupo_edad, dtype: int64"
      ]
     },
     "execution_count": 5,
     "metadata": {},
     "output_type": "execute_result"
    }
   ],
   "source": [
    "conteo_valores_grupo_edad = df['grupo_edad'].value_counts()\n",
    "conteo_valores_grupo_edad"
   ]
  },
  {
   "cell_type": "code",
   "execution_count": 6,
   "metadata": {},
   "outputs": [],
   "source": [
    "df_vulnerable = df[(df['grupo_edad'] == 'ADOLESCENTES') | (df['grupo_edad'] == 'MENORES')]"
   ]
  },
  {
   "cell_type": "markdown",
   "metadata": {},
   "source": [
    "Se crea por lo tanto un nuevo df_vulnerable que contiene únicamente la población de interés. Hecho ya esta depuración se procede a revisar las caracteristicas que se tienen:"
   ]
  },
  {
   "cell_type": "code",
   "execution_count": 7,
   "metadata": {},
   "outputs": [
    {
     "data": {
      "text/html": [
       "<div>\n",
       "<style scoped>\n",
       "    .dataframe tbody tr th:only-of-type {\n",
       "        vertical-align: middle;\n",
       "    }\n",
       "\n",
       "    .dataframe tbody tr th {\n",
       "        vertical-align: top;\n",
       "    }\n",
       "\n",
       "    .dataframe thead th {\n",
       "        text-align: right;\n",
       "    }\n",
       "</style>\n",
       "<table border=\"1\" class=\"dataframe\">\n",
       "  <thead>\n",
       "    <tr style=\"text-align: right;\">\n",
       "      <th></th>\n",
       "      <th>coddepto</th>\n",
       "      <th>codmpio</th>\n",
       "      <th>edad</th>\n",
       "      <th>n_homicidios</th>\n",
       "    </tr>\n",
       "  </thead>\n",
       "  <tbody>\n",
       "    <tr>\n",
       "      <th>count</th>\n",
       "      <td>13781.000000</td>\n",
       "      <td>13781.000000</td>\n",
       "      <td>13781.000000</td>\n",
       "      <td>13781.000000</td>\n",
       "    </tr>\n",
       "    <tr>\n",
       "      <th>mean</th>\n",
       "      <td>42.205138</td>\n",
       "      <td>42421.057833</td>\n",
       "      <td>14.771062</td>\n",
       "      <td>1.025615</td>\n",
       "    </tr>\n",
       "    <tr>\n",
       "      <th>std</th>\n",
       "      <td>29.855901</td>\n",
       "      <td>29856.101980</td>\n",
       "      <td>3.669558</td>\n",
       "      <td>0.165604</td>\n",
       "    </tr>\n",
       "    <tr>\n",
       "      <th>min</th>\n",
       "      <td>5.000000</td>\n",
       "      <td>5001.000000</td>\n",
       "      <td>0.000000</td>\n",
       "      <td>1.000000</td>\n",
       "    </tr>\n",
       "    <tr>\n",
       "      <th>25%</th>\n",
       "      <td>11.000000</td>\n",
       "      <td>11001.000000</td>\n",
       "      <td>15.000000</td>\n",
       "      <td>1.000000</td>\n",
       "    </tr>\n",
       "    <tr>\n",
       "      <th>50%</th>\n",
       "      <td>47.000000</td>\n",
       "      <td>47001.000000</td>\n",
       "      <td>16.000000</td>\n",
       "      <td>1.000000</td>\n",
       "    </tr>\n",
       "    <tr>\n",
       "      <th>75%</th>\n",
       "      <td>76.000000</td>\n",
       "      <td>76001.000000</td>\n",
       "      <td>17.000000</td>\n",
       "      <td>1.000000</td>\n",
       "    </tr>\n",
       "    <tr>\n",
       "      <th>max</th>\n",
       "      <td>99.000000</td>\n",
       "      <td>99773.000000</td>\n",
       "      <td>17.000000</td>\n",
       "      <td>3.000000</td>\n",
       "    </tr>\n",
       "  </tbody>\n",
       "</table>\n",
       "</div>"
      ],
      "text/plain": [
       "           coddepto       codmpio          edad  n_homicidios\n",
       "count  13781.000000  13781.000000  13781.000000  13781.000000\n",
       "mean      42.205138  42421.057833     14.771062      1.025615\n",
       "std       29.855901  29856.101980      3.669558      0.165604\n",
       "min        5.000000   5001.000000      0.000000      1.000000\n",
       "25%       11.000000  11001.000000     15.000000      1.000000\n",
       "50%       47.000000  47001.000000     16.000000      1.000000\n",
       "75%       76.000000  76001.000000     17.000000      1.000000\n",
       "max       99.000000  99773.000000     17.000000      3.000000"
      ]
     },
     "execution_count": 7,
     "metadata": {},
     "output_type": "execute_result"
    }
   ],
   "source": [
    "## Se ven las caracteristicas generales de las variables númericas\n",
    "df_vulnerable.describe()"
   ]
  },
  {
   "cell_type": "code",
   "execution_count": 8,
   "metadata": {},
   "outputs": [
    {
     "name": "stdout",
     "output_type": "stream",
     "text": [
      "Departamento    0\n",
      "Municipio       0\n",
      "coddepto        0\n",
      "codmpio         0\n",
      "fecha           0\n",
      "genero          0\n",
      "edad            0\n",
      "grupo_edad      0\n",
      "n_homicidios    0\n",
      "dtype: int64\n"
     ]
    }
   ],
   "source": [
    "## Se verifica si existen valores nulos\n",
    "valores_nulos = df_vulnerable.isna().sum()\n",
    "print(valores_nulos)"
   ]
  },
  {
   "cell_type": "markdown",
   "metadata": {},
   "source": [
    "Se puede observar que en esta nueva base de datos se tiene un promedio de edad de 14.77 (comparado con la original en la que el promedio era 32.23)"
   ]
  },
  {
   "cell_type": "code",
   "execution_count": 9,
   "metadata": {},
   "outputs": [
    {
     "name": "stdout",
     "output_type": "stream",
     "text": [
      "MASCULINO     11586\n",
      "FEMENINO       2191\n",
      "NO REPORTA        4\n",
      "Name: genero, dtype: int64\n"
     ]
    }
   ],
   "source": [
    "genero = df_vulnerable['genero'].value_counts()\n",
    "print(genero)"
   ]
  },
  {
   "cell_type": "code",
   "execution_count": 10,
   "metadata": {},
   "outputs": [
    {
     "name": "stdout",
     "output_type": "stream",
     "text": [
      "Cali            2397\n",
      "Bogotá, D.C.    1254\n",
      "Medellín        1012\n",
      "Barranquilla     254\n",
      "Palmira          236\n",
      "                ... \n",
      "Pijao              1\n",
      "Tutazá             1\n",
      "Salento            1\n",
      "Tuta               1\n",
      "Sesquilé           1\n",
      "Name: Municipio, Length: 775, dtype: int64\n"
     ]
    }
   ],
   "source": [
    "municipio = df_vulnerable['Municipio'].value_counts()\n",
    "print(municipio)"
   ]
  },
  {
   "cell_type": "code",
   "execution_count": 11,
   "metadata": {},
   "outputs": [
    {
     "name": "stdout",
     "output_type": "stream",
     "text": [
      "Valle del Cauca               3661\n",
      "Antioquia                     2305\n",
      "Bogotá, D.C.                  1254\n",
      "Cauca                          520\n",
      "Nariño                         493\n",
      "Santander                      460\n",
      "Risaralda                      451\n",
      "Cundinamarca                   409\n",
      "Caldas                         390\n",
      "Atlántico                      385\n",
      "Norte de Santander             371\n",
      "Huila                          313\n",
      "Bolívar                        312\n",
      "Tolima                         284\n",
      "Meta                           274\n",
      "Quindio                        246\n",
      "Cesar                          195\n",
      "Magdalena                      185\n",
      "Caquetá                        170\n",
      "Chocó                          168\n",
      "Córdoba                        166\n",
      "Putumayo                       152\n",
      "La Guajira                     144\n",
      "Arauca                         144\n",
      "Boyacá                         112\n",
      "Sucre                           76\n",
      "Casanare                        67\n",
      "Guaviare                        33\n",
      "Archipiélago de San Andrés      12\n",
      "Amazonas                        11\n",
      "Vichada                         11\n",
      "Guainía                          4\n",
      "Vaupés                           3\n",
      "Name: Departamento, dtype: int64\n"
     ]
    }
   ],
   "source": [
    "departamento = df_vulnerable['Departamento'].value_counts()\n",
    "print(departamento)"
   ]
  },
  {
   "cell_type": "markdown",
   "metadata": {},
   "source": [
    "Realizando una revisión rápida se puede observar que el número de homicidios parece variar mucho dependiendo de donde este ocurriendo y del genero afectado."
   ]
  },
  {
   "cell_type": "code",
   "execution_count": 12,
   "metadata": {},
   "outputs": [
    {
     "data": {
      "image/png": "[encoded data removed]",
      "text/plain": [
       "<Figure size 864x432 with 1 Axes>"
      ]
     },
     "metadata": {
      "needs_background": "light"
     },
     "output_type": "display_data"
    },
    {
     "data": {
      "image/png": "[encoded data removed]",
      "text/plain": [
       "<Figure size 864x432 with 1 Axes>"
      ]
     },
     "metadata": {
      "needs_background": "light"
     },
     "output_type": "display_data"
    }
   ],
   "source": [
    "## Se grafica para apreciar más la diferencia\n",
    "\n",
    "# Se filtran los diez municipios y departamentos principales\n",
    "top_municipios = df_vulnerable['Municipio'].value_counts().head(10).index.tolist()\n",
    "top_departamentos = df_vulnerable['Departamento'].value_counts().head(10).index.tolist()\n",
    "top_df_m = df_vulnerable[df_vulnerable['Municipio'].isin(top_municipios)]\n",
    "top_df_d = df_vulnerable[df_vulnerable['Departamento'].isin(top_departamentos)]\n",
    "\n",
    "# Se proceden a crear dos gráficos\n",
    "total_homicidios_municipio = top_df_m.groupby('Municipio')['n_homicidios'].sum().reset_index()\n",
    "\n",
    "plt.figure(figsize=(12, 6))\n",
    "sns.barplot(x='n_homicidios', y='Municipio', data=total_homicidios_municipio, color='blue')\n",
    "plt.title('Total de Homicidios por Municipio (Top 10)')\n",
    "plt.xlabel('Número de Homicidios')\n",
    "plt.ylabel('Municipio')\n",
    "plt.show()\n",
    "\n",
    "total_homicidios_departamento = top_df_d.groupby('Departamento')['n_homicidios'].sum().reset_index()\n",
    "\n",
    "plt.figure(figsize=(12, 6))\n",
    "sns.barplot(x='n_homicidios', y='Departamento', data=total_homicidios_departamento, color='green')\n",
    "plt.title('Total de Homicidios por Departamento (Top 10)')\n",
    "plt.xlabel('Número de Homicidios')\n",
    "plt.ylabel('Departamento')\n",
    "plt.show()"
   ]
  },
  {
   "cell_type": "markdown",
   "metadata": {},
   "source": [
    "Como se puede observar con estos resultados historicamente el Valle del Cauca y Cali parecen ser los el departamento y municipio respectivamente donde más se han presentado homcidios "
   ]
  },
  {
   "cell_type": "markdown",
   "metadata": {},
   "source": [
    "### Clustering con Agglomerative Hierarchical Clustering\n",
    "\n",
    "Se procede a desarrollar el Clustering"
   ]
  },
  {
   "cell_type": "code",
   "execution_count": 13,
   "metadata": {},
   "outputs": [
    {
     "data": {
      "text/html": [
       "<div>\n",
       "<style scoped>\n",
       "    .dataframe tbody tr th:only-of-type {\n",
       "        vertical-align: middle;\n",
       "    }\n",
       "\n",
       "    .dataframe tbody tr th {\n",
       "        vertical-align: top;\n",
       "    }\n",
       "\n",
       "    .dataframe thead th {\n",
       "        text-align: right;\n",
       "    }\n",
       "</style>\n",
       "<table border=\"1\" class=\"dataframe\">\n",
       "  <thead>\n",
       "    <tr style=\"text-align: right;\">\n",
       "      <th></th>\n",
       "      <th>Departamento</th>\n",
       "      <th>Municipio</th>\n",
       "      <th>coddepto</th>\n",
       "      <th>codmpio</th>\n",
       "      <th>fecha</th>\n",
       "      <th>genero</th>\n",
       "      <th>edad</th>\n",
       "      <th>grupo_edad</th>\n",
       "      <th>n_homicidios</th>\n",
       "    </tr>\n",
       "  </thead>\n",
       "  <tbody>\n",
       "    <tr>\n",
       "      <th>10</th>\n",
       "      <td>Antioquia</td>\n",
       "      <td>Medellín</td>\n",
       "      <td>5</td>\n",
       "      <td>5001.0</td>\n",
       "      <td>2003-01-01</td>\n",
       "      <td>MASCULINO</td>\n",
       "      <td>16.0</td>\n",
       "      <td>ADOLESCENTES</td>\n",
       "      <td>1.0</td>\n",
       "    </tr>\n",
       "  </tbody>\n",
       "</table>\n",
       "</div>"
      ],
      "text/plain": [
       "   Departamento Municipio  coddepto  codmpio      fecha     genero  edad  \\\n",
       "10    Antioquia  Medellín         5   5001.0 2003-01-01  MASCULINO  16.0   \n",
       "\n",
       "      grupo_edad  n_homicidios  \n",
       "10  ADOLESCENTES           1.0  "
      ]
     },
     "execution_count": 13,
     "metadata": {},
     "output_type": "execute_result"
    }
   ],
   "source": [
    "df_vulnerable.head(1)"
   ]
  },
  {
   "cell_type": "code",
   "execution_count": 14,
   "metadata": {},
   "outputs": [
    {
     "name": "stderr",
     "output_type": "stream",
     "text": [
      "C:\\Users\\Felipe\\AppData\\Local\\Temp\\ipykernel_22228\\823030861.py:5: SettingWithCopyWarning: \n",
      "A value is trying to be set on a copy of a slice from a DataFrame.\n",
      "Try using .loc[row_indexer,col_indexer] = value instead\n",
      "\n",
      "See the caveats in the documentation: https://pandas.pydata.org/pandas-docs/stable/user_guide/indexing.html#returning-a-view-versus-a-copy\n",
      "  df_vulnerable['Municipio_factor'] = Municipio_num\n",
      "C:\\Users\\Felipe\\AppData\\Local\\Temp\\ipykernel_22228\\823030861.py:7: SettingWithCopyWarning: \n",
      "A value is trying to be set on a copy of a slice from a DataFrame.\n",
      "Try using .loc[row_indexer,col_indexer] = value instead\n",
      "\n",
      "See the caveats in the documentation: https://pandas.pydata.org/pandas-docs/stable/user_guide/indexing.html#returning-a-view-versus-a-copy\n",
      "  df_vulnerable['Dep_factor'] = Dep_num\n"
     ]
    }
   ],
   "source": [
    "## Se estandariza la información a la que se dara uso\n",
    "\n",
    "scaler = StandardScaler()\n",
    "Municipio_num, Municipio_unicos = pd.factorize(df_vulnerable['Municipio'])\n",
    "df_vulnerable['Municipio_factor'] = Municipio_num\n",
    "Dep_num, Dep_unicos = pd.factorize(df_vulnerable['Departamento'])\n",
    "df_vulnerable['Dep_factor'] = Dep_num\n",
    "dic_Mun = dict(zip(Municipio_num, Municipio_unicos))\n",
    "dic_Dep = dict(zip(Dep_num, Dep_unicos))\n",
    "scaled_data = scaler.fit_transform(df_vulnerable[['n_homicidios', 'Dep_factor', 'Municipio_factor']])\n",
    "X = scaled_data\n",
    "\n"
   ]
  },
  {
   "cell_type": "code",
   "execution_count": 15,
   "metadata": {},
   "outputs": [
    {
     "data": {
      "text/plain": [
       "[<matplotlib.lines.Line2D at 0x1f0153d5070>]"
      ]
     },
     "execution_count": 15,
     "metadata": {},
     "output_type": "execute_result"
    },
    {
     "data": {
      "image/png": "[encoded data removed]",
      "text/plain": [
       "<Figure size 1000x800 with 1 Axes>"
      ]
     },
     "metadata": {},
     "output_type": "display_data"
    }
   ],
   "source": [
    "neigh = NearestNeighbors(n_neighbors = 10)\n",
    "nbrs = neigh.fit(X)\n",
    "distancias, indices = nbrs.kneighbors(X)\n",
    "distancias = np.sort(distancias.flatten())\n",
    "fig=plt.figure(figsize=(10,8), dpi= 100, facecolor='w', edgecolor='k')\n",
    "plt.axhline(y = 1.13, color = 'r', linestyle = '--')\n",
    "plt.plot(distancias)"
   ]
  },
  {
   "cell_type": "code",
   "execution_count": 16,
   "metadata": {},
   "outputs": [
    {
     "name": "stdout",
     "output_type": "stream",
     "text": [
      "0.0\n"
     ]
    }
   ],
   "source": [
    "i = np.arange(len(distancias))\n",
    "knee = KneeLocator(i, distancias, S=1, curve='convex', direction='increasing', interp_method='polynomial')\n",
    "\n",
    "print(distancias[knee.knee])"
   ]
  },
  {
   "cell_type": "code",
   "execution_count": 17,
   "metadata": {},
   "outputs": [],
   "source": [
    "gower_dist_matrix = gower_matrix(X)"
   ]
  },
  {
   "cell_type": "code",
   "execution_count": null,
   "metadata": {},
   "outputs": [],
   "source": [
    "# Calcula el enlace utilizando la matriz de distancias de Gower y el método de enlace deseado\n",
    "Z = linkage(gower_dist_matrix, method='ward')  # Puedes elegir otro método si lo prefieres\n",
    "\n",
    "# Crea un dendrograma para visualizar el clustering jerárquico\n",
    "plt.figure(figsize=(10, 6))\n",
    "dendrogram(Z, labels=labels)  # Labels son las etiquetas de tus observaciones si las tienes\n",
    "plt.title('Dendrograma de Clustering Jerárquico')\n",
    "plt.xlabel('Índices de Datos')\n",
    "plt.ylabel('Distancia')\n",
    "plt.show()"
   ]
  },
  {
   "cell_type": "code",
   "execution_count": null,
   "metadata": {},
   "outputs": [],
   "source": []
  }
 ],
 "metadata": {
  "kernelspec": {
   "display_name": "Financiero",
   "language": "python",
   "name": "python3"
  },
  "language_info": {
   "codemirror_mode": {
    "name": "ipython",
    "version": 3
   },
   "file_extension": ".py",
   "mimetype": "text/x-python",
   "name": "python",
   "nbconvert_exporter": "python",
   "pygments_lexer": "ipython3",
   "version": "3.11.2"
  },
  "orig_nbformat": 4
 },
 "nbformat": 4,
 "nbformat_minor": 2
}
